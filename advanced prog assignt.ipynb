{
 "cells": [
  {
   "cell_type": "code",
   "execution_count": 168,
   "id": "088a71f1",
   "metadata": {},
   "outputs": [],
   "source": [
    "import pandas as pd\n",
    "import matplotlib.pyplot as plt\n",
    "import numpy as np\n",
    "import seaborn as sns\n",
    "from sklearn.pipeline import Pipeline\n",
    "from sklearn.preprocessing import StandardScaler,PolynomialFeatures\n",
    "%matplotlib inline"
   ]
  },
  {
   "cell_type": "code",
   "execution_count": 65,
   "id": "057360ca",
   "metadata": {},
   "outputs": [
    {
     "data": {
      "text/html": [
       "<div>\n",
       "<style scoped>\n",
       "    .dataframe tbody tr th:only-of-type {\n",
       "        vertical-align: middle;\n",
       "    }\n",
       "\n",
       "    .dataframe tbody tr th {\n",
       "        vertical-align: top;\n",
       "    }\n",
       "\n",
       "    .dataframe thead th {\n",
       "        text-align: right;\n",
       "    }\n",
       "</style>\n",
       "<table border=\"1\" class=\"dataframe\">\n",
       "  <thead>\n",
       "    <tr style=\"text-align: right;\">\n",
       "      <th></th>\n",
       "      <th>Date_reported</th>\n",
       "      <th>Country_code</th>\n",
       "      <th>Country</th>\n",
       "      <th>WHO_region</th>\n",
       "      <th>New_cases</th>\n",
       "      <th>Cumulative_cases</th>\n",
       "      <th>New_deaths</th>\n",
       "      <th>Cumulative_deaths</th>\n",
       "    </tr>\n",
       "  </thead>\n",
       "  <tbody>\n",
       "    <tr>\n",
       "      <th>0</th>\n",
       "      <td>2020-01-03</td>\n",
       "      <td>AF</td>\n",
       "      <td>Afghanistan</td>\n",
       "      <td>EMRO</td>\n",
       "      <td>0</td>\n",
       "      <td>0</td>\n",
       "      <td>0</td>\n",
       "      <td>0</td>\n",
       "    </tr>\n",
       "    <tr>\n",
       "      <th>1</th>\n",
       "      <td>2020-01-04</td>\n",
       "      <td>AF</td>\n",
       "      <td>Afghanistan</td>\n",
       "      <td>EMRO</td>\n",
       "      <td>0</td>\n",
       "      <td>0</td>\n",
       "      <td>0</td>\n",
       "      <td>0</td>\n",
       "    </tr>\n",
       "    <tr>\n",
       "      <th>2</th>\n",
       "      <td>2020-01-05</td>\n",
       "      <td>AF</td>\n",
       "      <td>Afghanistan</td>\n",
       "      <td>EMRO</td>\n",
       "      <td>0</td>\n",
       "      <td>0</td>\n",
       "      <td>0</td>\n",
       "      <td>0</td>\n",
       "    </tr>\n",
       "    <tr>\n",
       "      <th>3</th>\n",
       "      <td>2020-01-06</td>\n",
       "      <td>AF</td>\n",
       "      <td>Afghanistan</td>\n",
       "      <td>EMRO</td>\n",
       "      <td>0</td>\n",
       "      <td>0</td>\n",
       "      <td>0</td>\n",
       "      <td>0</td>\n",
       "    </tr>\n",
       "    <tr>\n",
       "      <th>4</th>\n",
       "      <td>2020-01-07</td>\n",
       "      <td>AF</td>\n",
       "      <td>Afghanistan</td>\n",
       "      <td>EMRO</td>\n",
       "      <td>0</td>\n",
       "      <td>0</td>\n",
       "      <td>0</td>\n",
       "      <td>0</td>\n",
       "    </tr>\n",
       "    <tr>\n",
       "      <th>5</th>\n",
       "      <td>2020-01-08</td>\n",
       "      <td>AF</td>\n",
       "      <td>Afghanistan</td>\n",
       "      <td>EMRO</td>\n",
       "      <td>0</td>\n",
       "      <td>0</td>\n",
       "      <td>0</td>\n",
       "      <td>0</td>\n",
       "    </tr>\n",
       "    <tr>\n",
       "      <th>6</th>\n",
       "      <td>2020-01-09</td>\n",
       "      <td>AF</td>\n",
       "      <td>Afghanistan</td>\n",
       "      <td>EMRO</td>\n",
       "      <td>0</td>\n",
       "      <td>0</td>\n",
       "      <td>0</td>\n",
       "      <td>0</td>\n",
       "    </tr>\n",
       "    <tr>\n",
       "      <th>7</th>\n",
       "      <td>2020-01-10</td>\n",
       "      <td>AF</td>\n",
       "      <td>Afghanistan</td>\n",
       "      <td>EMRO</td>\n",
       "      <td>0</td>\n",
       "      <td>0</td>\n",
       "      <td>0</td>\n",
       "      <td>0</td>\n",
       "    </tr>\n",
       "    <tr>\n",
       "      <th>8</th>\n",
       "      <td>2020-01-11</td>\n",
       "      <td>AF</td>\n",
       "      <td>Afghanistan</td>\n",
       "      <td>EMRO</td>\n",
       "      <td>0</td>\n",
       "      <td>0</td>\n",
       "      <td>0</td>\n",
       "      <td>0</td>\n",
       "    </tr>\n",
       "    <tr>\n",
       "      <th>9</th>\n",
       "      <td>2020-01-12</td>\n",
       "      <td>AF</td>\n",
       "      <td>Afghanistan</td>\n",
       "      <td>EMRO</td>\n",
       "      <td>0</td>\n",
       "      <td>0</td>\n",
       "      <td>0</td>\n",
       "      <td>0</td>\n",
       "    </tr>\n",
       "  </tbody>\n",
       "</table>\n",
       "</div>"
      ],
      "text/plain": [
       "  Date_reported Country_code      Country WHO_region  New_cases  \\\n",
       "0    2020-01-03           AF  Afghanistan       EMRO          0   \n",
       "1    2020-01-04           AF  Afghanistan       EMRO          0   \n",
       "2    2020-01-05           AF  Afghanistan       EMRO          0   \n",
       "3    2020-01-06           AF  Afghanistan       EMRO          0   \n",
       "4    2020-01-07           AF  Afghanistan       EMRO          0   \n",
       "5    2020-01-08           AF  Afghanistan       EMRO          0   \n",
       "6    2020-01-09           AF  Afghanistan       EMRO          0   \n",
       "7    2020-01-10           AF  Afghanistan       EMRO          0   \n",
       "8    2020-01-11           AF  Afghanistan       EMRO          0   \n",
       "9    2020-01-12           AF  Afghanistan       EMRO          0   \n",
       "\n",
       "   Cumulative_cases  New_deaths  Cumulative_deaths  \n",
       "0                 0           0                  0  \n",
       "1                 0           0                  0  \n",
       "2                 0           0                  0  \n",
       "3                 0           0                  0  \n",
       "4                 0           0                  0  \n",
       "5                 0           0                  0  \n",
       "6                 0           0                  0  \n",
       "7                 0           0                  0  \n",
       "8                 0           0                  0  \n",
       "9                 0           0                  0  "
      ]
     },
     "execution_count": 65,
     "metadata": {},
     "output_type": "execute_result"
    }
   ],
   "source": [
    "data= pd.read_csv('WHO-COVID-19-global-data (3).csv') #reading the dataset\n",
    "data.head(10)"
   ]
  },
  {
   "cell_type": "code",
   "execution_count": 66,
   "id": "031d2fad",
   "metadata": {},
   "outputs": [
    {
     "data": {
      "text/html": [
       "<div>\n",
       "<style scoped>\n",
       "    .dataframe tbody tr th:only-of-type {\n",
       "        vertical-align: middle;\n",
       "    }\n",
       "\n",
       "    .dataframe tbody tr th {\n",
       "        vertical-align: top;\n",
       "    }\n",
       "\n",
       "    .dataframe thead th {\n",
       "        text-align: right;\n",
       "    }\n",
       "</style>\n",
       "<table border=\"1\" class=\"dataframe\">\n",
       "  <thead>\n",
       "    <tr style=\"text-align: right;\">\n",
       "      <th></th>\n",
       "      <th>Date_reported</th>\n",
       "      <th>Country_code</th>\n",
       "      <th>Country</th>\n",
       "      <th>WHO_region</th>\n",
       "      <th>New_cases</th>\n",
       "      <th>Cumulative_cases</th>\n",
       "      <th>New_deaths</th>\n",
       "      <th>Cumulative_deaths</th>\n",
       "    </tr>\n",
       "  </thead>\n",
       "  <tbody>\n",
       "    <tr>\n",
       "      <th>198601</th>\n",
       "      <td>2022-04-15</td>\n",
       "      <td>ZW</td>\n",
       "      <td>Zimbabwe</td>\n",
       "      <td>AFRO</td>\n",
       "      <td>48</td>\n",
       "      <td>247208</td>\n",
       "      <td>2</td>\n",
       "      <td>5462</td>\n",
       "    </tr>\n",
       "    <tr>\n",
       "      <th>198602</th>\n",
       "      <td>2022-04-16</td>\n",
       "      <td>ZW</td>\n",
       "      <td>Zimbabwe</td>\n",
       "      <td>AFRO</td>\n",
       "      <td>29</td>\n",
       "      <td>247237</td>\n",
       "      <td>0</td>\n",
       "      <td>5462</td>\n",
       "    </tr>\n",
       "    <tr>\n",
       "      <th>198603</th>\n",
       "      <td>2022-04-17</td>\n",
       "      <td>ZW</td>\n",
       "      <td>Zimbabwe</td>\n",
       "      <td>AFRO</td>\n",
       "      <td>24</td>\n",
       "      <td>247261</td>\n",
       "      <td>0</td>\n",
       "      <td>5462</td>\n",
       "    </tr>\n",
       "    <tr>\n",
       "      <th>198604</th>\n",
       "      <td>2022-04-18</td>\n",
       "      <td>ZW</td>\n",
       "      <td>Zimbabwe</td>\n",
       "      <td>AFRO</td>\n",
       "      <td>17</td>\n",
       "      <td>247278</td>\n",
       "      <td>1</td>\n",
       "      <td>5463</td>\n",
       "    </tr>\n",
       "    <tr>\n",
       "      <th>198605</th>\n",
       "      <td>2022-04-19</td>\n",
       "      <td>ZW</td>\n",
       "      <td>Zimbabwe</td>\n",
       "      <td>AFRO</td>\n",
       "      <td>19</td>\n",
       "      <td>247297</td>\n",
       "      <td>1</td>\n",
       "      <td>5464</td>\n",
       "    </tr>\n",
       "  </tbody>\n",
       "</table>\n",
       "</div>"
      ],
      "text/plain": [
       "       Date_reported Country_code   Country WHO_region  New_cases  \\\n",
       "198601    2022-04-15           ZW  Zimbabwe       AFRO         48   \n",
       "198602    2022-04-16           ZW  Zimbabwe       AFRO         29   \n",
       "198603    2022-04-17           ZW  Zimbabwe       AFRO         24   \n",
       "198604    2022-04-18           ZW  Zimbabwe       AFRO         17   \n",
       "198605    2022-04-19           ZW  Zimbabwe       AFRO         19   \n",
       "\n",
       "        Cumulative_cases  New_deaths  Cumulative_deaths  \n",
       "198601            247208           2               5462  \n",
       "198602            247237           0               5462  \n",
       "198603            247261           0               5462  \n",
       "198604            247278           1               5463  \n",
       "198605            247297           1               5464  "
      ]
     },
     "execution_count": 66,
     "metadata": {},
     "output_type": "execute_result"
    }
   ],
   "source": [
    "data.tail() #last five records"
   ]
  },
  {
   "cell_type": "code",
   "execution_count": 67,
   "id": "687d0128",
   "metadata": {},
   "outputs": [
    {
     "data": {
      "text/plain": [
       "(198606, 8)"
      ]
     },
     "execution_count": 67,
     "metadata": {},
     "output_type": "execute_result"
    }
   ],
   "source": [
    "data.shape"
   ]
  },
  {
   "cell_type": "code",
   "execution_count": 180,
   "id": "9becf68e",
   "metadata": {},
   "outputs": [
    {
     "name": "stdout",
     "output_type": "stream",
     "text": [
      "number of NaN values for the column Date_reported : 0\n",
      "number of NaN values for the column Country_code: 0\n",
      "number of NaN values for the column Country: 0\n",
      "number of NaN values for the column WHO_region: 0\n",
      "number of NaN values for the column New_cases: 0\n",
      "number of NaN values for the column Cumulative_cases: 0\n",
      "number of NaN values for the column New_deaths: 0\n",
      "number of NaN values for the column Cumulative_deaths: 0\n"
     ]
    }
   ],
   "source": [
    "print(\"number of NaN values for the column Date_reported :\", data['Date_reported'].isnull().sum())\n",
    "print(\"number of NaN values for the column Country_code:\", data['Country_code'].isnull().sum())\n",
    "print(\"number of NaN values for the column Country:\", data['Country'].isnull().sum())\n",
    "print(\"number of NaN values for the column WHO_region:\", data['WHO_region'].isnull().sum())\n",
    "print(\"number of NaN values for the column New_cases:\", data['New_cases'].isnull().sum())\n",
    "print(\"number of NaN values for the column Cumulative_cases:\", data['Cumulative_cases'].isnull().sum())\n",
    "print(\"number of NaN values for the column New_deaths:\", data['New_deaths'].isnull().sum())\n",
    "print(\"number of NaN values for the column Cumulative_deaths:\", data['Cumulative_deaths'].isnull().sum())"
   ]
  },
  {
   "cell_type": "code",
   "execution_count": 179,
   "id": "4e27ea36",
   "metadata": {},
   "outputs": [],
   "source": [
    "data.replace('?',np.nan, inplace=True)\n",
    "data.dropna(inplace=True)"
   ]
  },
  {
   "cell_type": "code",
   "execution_count": 181,
   "id": "0b4f8d00",
   "metadata": {},
   "outputs": [],
   "source": [
    "import pandas as pd\n",
    "import matplotlib.pyplot as plt\n",
    "import numpy as np\n",
    "import seaborn as sns\n",
    "from sklearn.pipeline import Pipeline\n",
    "from sklearn.preprocessing import StandardScaler,PolynomialFeatures\n",
    "%matplotlib inline"
   ]
  },
  {
   "cell_type": "code",
   "execution_count": 182,
   "id": "031db73f",
   "metadata": {},
   "outputs": [
    {
     "data": {
      "text/html": [
       "<div>\n",
       "<style scoped>\n",
       "    .dataframe tbody tr th:only-of-type {\n",
       "        vertical-align: middle;\n",
       "    }\n",
       "\n",
       "    .dataframe tbody tr th {\n",
       "        vertical-align: top;\n",
       "    }\n",
       "\n",
       "    .dataframe thead th {\n",
       "        text-align: right;\n",
       "    }\n",
       "</style>\n",
       "<table border=\"1\" class=\"dataframe\">\n",
       "  <thead>\n",
       "    <tr style=\"text-align: right;\">\n",
       "      <th></th>\n",
       "      <th>New_cases</th>\n",
       "      <th>Cumulative_cases</th>\n",
       "      <th>New_deaths</th>\n",
       "      <th>Cumulative_deaths</th>\n",
       "    </tr>\n",
       "  </thead>\n",
       "  <tbody>\n",
       "    <tr>\n",
       "      <th>count</th>\n",
       "      <td>1.977680e+05</td>\n",
       "      <td>1.977680e+05</td>\n",
       "      <td>197768.000000</td>\n",
       "      <td>197768.000000</td>\n",
       "    </tr>\n",
       "    <tr>\n",
       "      <th>mean</th>\n",
       "      <td>2.543252e+03</td>\n",
       "      <td>6.059476e+05</td>\n",
       "      <td>31.332415</td>\n",
       "      <td>11592.654889</td>\n",
       "    </tr>\n",
       "    <tr>\n",
       "      <th>std</th>\n",
       "      <td>1.675399e+04</td>\n",
       "      <td>3.246818e+06</td>\n",
       "      <td>164.988620</td>\n",
       "      <td>54083.469348</td>\n",
       "    </tr>\n",
       "    <tr>\n",
       "      <th>min</th>\n",
       "      <td>-3.295200e+04</td>\n",
       "      <td>0.000000e+00</td>\n",
       "      <td>-2452.000000</td>\n",
       "      <td>0.000000</td>\n",
       "    </tr>\n",
       "    <tr>\n",
       "      <th>25%</th>\n",
       "      <td>0.000000e+00</td>\n",
       "      <td>1.830000e+02</td>\n",
       "      <td>0.000000</td>\n",
       "      <td>2.000000</td>\n",
       "    </tr>\n",
       "    <tr>\n",
       "      <th>50%</th>\n",
       "      <td>2.400000e+01</td>\n",
       "      <td>1.101900e+04</td>\n",
       "      <td>0.000000</td>\n",
       "      <td>145.000000</td>\n",
       "    </tr>\n",
       "    <tr>\n",
       "      <th>75%</th>\n",
       "      <td>5.160000e+02</td>\n",
       "      <td>1.608108e+05</td>\n",
       "      <td>6.000000</td>\n",
       "      <td>2659.000000</td>\n",
       "    </tr>\n",
       "    <tr>\n",
       "      <th>max</th>\n",
       "      <td>1.252717e+06</td>\n",
       "      <td>7.989615e+07</td>\n",
       "      <td>11447.000000</td>\n",
       "      <td>981415.000000</td>\n",
       "    </tr>\n",
       "  </tbody>\n",
       "</table>\n",
       "</div>"
      ],
      "text/plain": [
       "          New_cases  Cumulative_cases     New_deaths  Cumulative_deaths\n",
       "count  1.977680e+05      1.977680e+05  197768.000000      197768.000000\n",
       "mean   2.543252e+03      6.059476e+05      31.332415       11592.654889\n",
       "std    1.675399e+04      3.246818e+06     164.988620       54083.469348\n",
       "min   -3.295200e+04      0.000000e+00   -2452.000000           0.000000\n",
       "25%    0.000000e+00      1.830000e+02       0.000000           2.000000\n",
       "50%    2.400000e+01      1.101900e+04       0.000000         145.000000\n",
       "75%    5.160000e+02      1.608108e+05       6.000000        2659.000000\n",
       "max    1.252717e+06      7.989615e+07   11447.000000      981415.000000"
      ]
     },
     "execution_count": 182,
     "metadata": {},
     "output_type": "execute_result"
    }
   ],
   "source": [
    "data.describe()"
   ]
  },
  {
   "cell_type": "code",
   "execution_count": 183,
   "id": "7e9a5f1c",
   "metadata": {},
   "outputs": [
    {
     "data": {
      "text/html": [
       "<div>\n",
       "<style scoped>\n",
       "    .dataframe tbody tr th:only-of-type {\n",
       "        vertical-align: middle;\n",
       "    }\n",
       "\n",
       "    .dataframe tbody tr th {\n",
       "        vertical-align: top;\n",
       "    }\n",
       "\n",
       "    .dataframe thead th {\n",
       "        text-align: right;\n",
       "    }\n",
       "</style>\n",
       "<table border=\"1\" class=\"dataframe\">\n",
       "  <thead>\n",
       "    <tr style=\"text-align: right;\">\n",
       "      <th></th>\n",
       "      <th>New_cases</th>\n",
       "      <th>Cumulative_cases</th>\n",
       "      <th>New_deaths</th>\n",
       "      <th>Cumulative_deaths</th>\n",
       "    </tr>\n",
       "  </thead>\n",
       "  <tbody>\n",
       "    <tr>\n",
       "      <th>New_cases</th>\n",
       "      <td>1.000000</td>\n",
       "      <td>0.576643</td>\n",
       "      <td>0.569329</td>\n",
       "      <td>0.499686</td>\n",
       "    </tr>\n",
       "    <tr>\n",
       "      <th>Cumulative_cases</th>\n",
       "      <td>0.576643</td>\n",
       "      <td>1.000000</td>\n",
       "      <td>0.534999</td>\n",
       "      <td>0.913828</td>\n",
       "    </tr>\n",
       "    <tr>\n",
       "      <th>New_deaths</th>\n",
       "      <td>0.569329</td>\n",
       "      <td>0.534999</td>\n",
       "      <td>1.000000</td>\n",
       "      <td>0.592858</td>\n",
       "    </tr>\n",
       "    <tr>\n",
       "      <th>Cumulative_deaths</th>\n",
       "      <td>0.499686</td>\n",
       "      <td>0.913828</td>\n",
       "      <td>0.592858</td>\n",
       "      <td>1.000000</td>\n",
       "    </tr>\n",
       "  </tbody>\n",
       "</table>\n",
       "</div>"
      ],
      "text/plain": [
       "                   New_cases  Cumulative_cases  New_deaths  Cumulative_deaths\n",
       "New_cases           1.000000          0.576643    0.569329           0.499686\n",
       "Cumulative_cases    0.576643          1.000000    0.534999           0.913828\n",
       "New_deaths          0.569329          0.534999    1.000000           0.592858\n",
       "Cumulative_deaths   0.499686          0.913828    0.592858           1.000000"
      ]
     },
     "execution_count": 183,
     "metadata": {},
     "output_type": "execute_result"
    }
   ],
   "source": [
    "data.corr(method='pearson') #Pearson corelation"
   ]
  },
  {
   "cell_type": "markdown",
   "id": "c8da00ac",
   "metadata": {},
   "source": [
    "From the correlation coefficent, it appears that the column New_cases has low correlation to Cumulative_cases, New_deaths and Cumulative_deaths."
   ]
  },
  {
   "cell_type": "code",
   "execution_count": 184,
   "id": "e5c37c0e",
   "metadata": {},
   "outputs": [
    {
     "name": "stdout",
     "output_type": "stream",
     "text": [
      "Date_reported        object\n",
      "Country_code         object\n",
      "Country              object\n",
      "WHO_region           object\n",
      "New_cases             int64\n",
      "Cumulative_cases      int64\n",
      "New_deaths            int64\n",
      "Cumulative_deaths     int64\n",
      "dtype: object\n"
     ]
    }
   ],
   "source": [
    "print(data.dtypes)"
   ]
  },
  {
   "cell_type": "code",
   "execution_count": 186,
   "id": "f8891942",
   "metadata": {},
   "outputs": [
    {
     "data": {
      "text/plain": [
       "<AxesSubplot:>"
      ]
     },
     "execution_count": 186,
     "metadata": {},
     "output_type": "execute_result"
    },
    {
     "data": {
      "image/png": "[encoded data removed]",
      "text/plain": [
       "<Figure size 432x288 with 2 Axes>"
      ]
     },
     "metadata": {
      "needs_background": "light"
     },
     "output_type": "display_data"
    }
   ],
   "source": [
    "df = data.corr(method='pearson') #heatmap for pearson correlation \n",
    "sns.heatmap(df)"
   ]
  },
  {
   "cell_type": "code",
   "execution_count": 170,
   "id": "4fd99cff",
   "metadata": {},
   "outputs": [
    {
     "data": {
      "image/png": "[encoded data removed]",
      "text/plain": [
       "<Figure size 720x504 with 1 Axes>"
      ]
     },
     "metadata": {
      "needs_background": "light"
     },
     "output_type": "display_data"
    }
   ],
   "source": [
    "plt.figure(figsize=(10,7)) # Correlation btween cumulative cases and cumulative deaths\n",
    "sns.regplot(x = 'Cumulative_cases', y = 'Cumulative_deaths', data = data)\n",
    "plt.ylim(0,) \n",
    "plt.title(\"correlation between Cumulative_cases and Cumulative_deaths\")\n",
    "plt.show()"
   ]
  },
  {
   "cell_type": "code",
   "execution_count": 173,
   "id": "675e32a2",
   "metadata": {},
   "outputs": [
    {
     "name": "stdout",
     "output_type": "stream",
     "text": [
      "The slope of line is 0.02.\n",
      "The y-intercept is 2360.69.\n",
      "The best fit simple linear regression line is 0.02x + 2360.69.\n"
     ]
    }
   ],
   "source": [
    "#Finding the slope of the line, the y intercept and best fit simple linear regression line.\n",
    "m, b = np.polyfit(x,y,1) \n",
    "print ('The slope of line is {:.2f}.'.format(m))\n",
    "print ('The y-intercept is {:.2f}.'.format(b))\n",
    "print ('The best fit simple linear regression line is {:.2f}x + {:.2f}.'.format(m,b))"
   ]
  },
  {
   "cell_type": "code",
   "execution_count": 174,
   "id": "92748f5d",
   "metadata": {},
   "outputs": [
    {
     "name": "stdout",
     "output_type": "stream",
     "text": [
      "The centroid for this dataset is x = 603644.00 and y = 11549.60.\n"
     ]
    }
   ],
   "source": [
    "#Finding Centroid \n",
    "y_mean = y.mean()  \n",
    "x_mean = x.mean()\n",
    "print ('The centroid for this dataset is x = {:.2f} and y = {:.2f}.'.format(x_mean, y_mean))"
   ]
  },
  {
   "cell_type": "code",
   "execution_count": 134,
   "id": "9ff31272",
   "metadata": {},
   "outputs": [
    {
     "data": {
      "text/plain": [
       "<matplotlib.legend.Legend at 0x2539995e6b0>"
      ]
     },
     "execution_count": 134,
     "metadata": {},
     "output_type": "execute_result"
    },
    {
     "data": {
      "image/png": "[encoded data removed]",
      "text/plain": [
       "<Figure size 720x504 with 1 Axes>"
      ]
     },
     "metadata": {
      "needs_background": "light"
     },
     "output_type": "display_data"
    }
   ],
   "source": [
    "#regression line and the centroid point on the plot\n",
    "\n",
    "%matplotlib inline\n",
    "\n",
    "plt.figure(figsize=(10,7))\n",
    "\n",
    "#scatter plot of the data set\n",
    "plt.plot(x,y, 'o', markersize = 14, label = \"Deaths\") \n",
    "\n",
    "# Plot the centroid point\n",
    "plt.plot(x_mean,y_mean, '*', markersize = 15, color = \"k\") \n",
    "\n",
    "# Plot the linear regression line\n",
    "plt.plot(x, m*x + b, '-', label = 'Simple Linear Regression Line', linewidth = 2)\n",
    "\n",
    "# Create the x and y axis labels\n",
    "plt.ylabel('Cumulative_deaths', fontsize = 10)\n",
    "plt.xlabel('Cumulative_cases', fontsize = 10)\n",
    "\n",
    "# Enlarge x and y tick marks\n",
    "plt.xticks(fontsize = 10)\n",
    "plt.yticks(fontsize = 10)\n",
    "\n",
    "# Point out the centroid point in the plot\n",
    "plt.annotate('Centroid', xy=(x_mean-0.1, y_mean-5), xytext=(x_mean-3, y_mean-20), arrowprops=dict(facecolor='black', shrink=0.05), fontsize = 30)\n",
    "\n",
    "# Create legend\n",
    "plt.legend(loc = 'upper left', fontsize = 10)"
   ]
  },
  {
   "cell_type": "code",
   "execution_count": 190,
   "id": "5cb9f608",
   "metadata": {},
   "outputs": [
    {
     "name": "stdout",
     "output_type": "stream",
     "text": [
      "The array p(x) Deaths the calculated y value from the polynomial model for each x value,\n",
      "\n",
      "[2360.69335471 2360.69335471 2360.69335471 ... 6124.59928495 6124.85806575\n",
      " 6125.14729136].\n",
      "\n",
      "The vector of coefficients p describes this regression model:\n",
      " \n",
      "0.01522 x + 2361\n",
      "\n",
      "The zeroth order term (y-intercept or b) is stored in p[0]: 2360.693354712429.\n",
      "\n",
      "The first order term (slope or m) is stored in p[1]: 0.015222400339054426.\n"
     ]
    }
   ],
   "source": [
    "#Poloynomial\n",
    "order = 1\n",
    "p = np.poly1d(np.polyfit(x, y ,order))\n",
    "print('The array p(x) Deaths the calculated y value from the polynomial model for each x value,\\n\\n{}.'.format(p(x)))\n",
    "print('\\nThe vector of coefficients p describes this regression model:\\n{}'.format(p))\n",
    "print('\\nThe zeroth order term (y-intercept or b) is stored in p[0]: {}.'.format(p[0]))\n",
    "print('\\nThe first order term (slope or m) is stored in p[1]: {}.'.format(p[1]))"
   ]
  },
  {
   "cell_type": "code",
   "execution_count": 191,
   "id": "7613119c",
   "metadata": {},
   "outputs": [
    {
     "data": {
      "text/plain": [
       "0.8351005315633218"
      ]
     },
     "execution_count": 191,
     "metadata": {},
     "output_type": "execute_result"
    }
   ],
   "source": [
    "#Finding r^2\n",
    "from sklearn.metrics import r2_score\n",
    "r2 = r2_score(y, p(x))\n",
    "r2"
   ]
  },
  {
   "cell_type": "code",
   "execution_count": 192,
   "id": "9fca4796",
   "metadata": {},
   "outputs": [
    {
     "data": {
      "text/plain": [
       "480370881.7878995"
      ]
     },
     "execution_count": 192,
     "metadata": {},
     "output_type": "execute_result"
    }
   ],
   "source": [
    "#Finding Mean squared error\n",
    "from sklearn.metrics import mean_squared_error\n",
    "mse = mean_squared_error(y, p(x))\n",
    "mse"
   ]
  },
  {
   "cell_type": "code",
   "execution_count": 137,
   "id": "30419945",
   "metadata": {},
   "outputs": [
    {
     "data": {
      "image/png": "[encoded data removed]",
      "text/plain": [
       "<Figure size 720x504 with 1 Axes>"
      ]
     },
     "metadata": {
      "needs_background": "light"
     },
     "output_type": "display_data"
    }
   ],
   "source": [
    "#Scatter plot of Cumulative against cumulative deaths\n",
    "plt.figure(figsize=(10,7))\n",
    "plt.scatter(data.Cumulative_cases, data.Cumulative_deaths,  color='green')\n",
    "plt.xlabel(\"Cumulative_cases\")\n",
    "plt.ylabel(\"Cumulative_deaths\")\n",
    "plt.show()"
   ]
  },
  {
   "cell_type": "code",
   "execution_count": 193,
   "id": "08d18c59",
   "metadata": {},
   "outputs": [
    {
     "data": {
      "image/png": "[encoded data removed]",
      "text/plain": [
       "<Figure size 720x504 with 1 Axes>"
      ]
     },
     "metadata": {
      "needs_background": "light"
     },
     "output_type": "display_data"
    }
   ],
   "source": [
    "# Scatter plot of new deaths against cumulative deaths\n",
    "\n",
    "plt.figure(figsize=(10,7))\n",
    "plt.scatter(data.New_cases, data.Cumulative_deaths,  color='green')\n",
    "plt.xlabel(\"New_deaths\")\n",
    "plt.ylabel(\"Cumulative_deaths\")\n",
    "plt.show()"
   ]
  },
  {
   "cell_type": "code",
   "execution_count": 117,
   "id": "e0a31491",
   "metadata": {},
   "outputs": [
    {
     "name": "stdout",
     "output_type": "stream",
     "text": [
      "Coefficients:  [[54.85997694]]\n",
      "Intercept:  [-29967.0082232]\n"
     ]
    }
   ],
   "source": [
    "# Finding the coefficients and the intercept\n",
    "\n",
    "from sklearn import linear_model\n",
    "regr = linear_model.LinearRegression()\n",
    "train_x = np.asanyarray(data[['Cumulative_deaths']])\n",
    "train_y = np.asanyarray(data[['Cumulative_cases']])\n",
    "regr.fit (train_x, train_y)\n",
    "\n",
    "print ('Coefficients: ', regr.coef_)\n",
    "print ('Intercept: ',regr.intercept_)"
   ]
  },
  {
   "cell_type": "code",
   "execution_count": 135,
   "id": "b1c042b2",
   "metadata": {},
   "outputs": [
    {
     "data": {
      "text/plain": [
       "Text(0, 0.5, 'Cumulative_deaths')"
      ]
     },
     "execution_count": 135,
     "metadata": {},
     "output_type": "execute_result"
    },
    {
     "data": {
      "image/png": "[encoded data removed]",
      "text/plain": [
       "<Figure size 720x504 with 1 Axes>"
      ]
     },
     "metadata": {
      "needs_background": "light"
     },
     "output_type": "display_data"
    }
   ],
   "source": [
    "plt.figure(figsize=(10,7))\n",
    "plt.scatter(data.Cumulative_deaths, data.Cumulative_cases,  color='green')\n",
    "plt.plot(train_x, regr.coef_[0][0]*train_x + regr.intercept_[0], '-r')\n",
    "plt.xlabel(\"Cumulative_cases\")\n",
    "plt.ylabel(\"Cumulative_deaths\")"
   ]
  },
  {
   "cell_type": "code",
   "execution_count": 127,
   "id": "c6f903d3",
   "metadata": {},
   "outputs": [
    {
     "name": "stdout",
     "output_type": "stream",
     "text": [
      "Mean absolute error: 295210.86\n",
      "Residual sum of squares (MSE): 1731207622338.49\n",
      "R2-score: 0.80\n"
     ]
    }
   ],
   "source": [
    "# Calculating the errors\n",
    "\n",
    "from sklearn.metrics import r2_score\n",
    "test_x = np.asanyarray(data[['Cumulative_deaths']])\n",
    "test_y = np.asanyarray(data[['Cumulative_cases']])\n",
    "test_y_hat = regr.predict(test_x)\n",
    "\n",
    "print(\"Mean absolute error: %.2f\" % np.mean(np.absolute(test_y_hat - test_y)))\n",
    "print(\"Residual sum of squares (MSE): %.2f\" % np.mean((test_y_hat - test_y) ** 2))\n",
    "print(\"R2-score: %.2f\" % r2_score(test_y_hat , test_y) )"
   ]
  },
  {
   "cell_type": "markdown",
   "id": "4f202cd3",
   "metadata": {},
   "source": [
    "<b> Simple linear regression </b>"
   ]
  },
  {
   "cell_type": "code",
   "execution_count": 128,
   "id": "975e80b3",
   "metadata": {},
   "outputs": [],
   "source": [
    "from scipy import stats"
   ]
  },
  {
   "cell_type": "code",
   "execution_count": 129,
   "id": "f8474fe1",
   "metadata": {},
   "outputs": [
    {
     "name": "stdout",
     "output_type": "stream",
     "text": [
      "The Pearson Correlation Coefficient is 0.9138383508932866  with a P-value of P = 0.0\n"
     ]
    }
   ],
   "source": [
    "# Finding the p values between cumulative deaths and cumulative cases\n",
    "\n",
    "pearson_coef, p_value = stats.pearsonr(data['Cumulative_deaths'], data['Cumulative_cases'])\n",
    "print(\"The Pearson Correlation Coefficient is\", pearson_coef, \" with a P-value of P =\", p_value)"
   ]
  },
  {
   "cell_type": "code",
   "execution_count": 194,
   "id": "65f7e7b9",
   "metadata": {},
   "outputs": [
    {
     "name": "stdout",
     "output_type": "stream",
     "text": [
      "The Pearson Correlation Coefficient is 0.5349989450184017  with a P-value of P = 0.0\n"
     ]
    }
   ],
   "source": [
    "# Finding the p values between new deaths and cumulative cases\n",
    "\n",
    "pearson_coef, p_value = stats.pearsonr(data['New_deaths'], data['Cumulative_cases'])\n",
    "print(\"The Pearson Correlation Coefficient is\", pearson_coef, \" with a P-value of P =\", p_value)"
   ]
  },
  {
   "cell_type": "code",
   "execution_count": 195,
   "id": "26fdaa23",
   "metadata": {},
   "outputs": [],
   "source": [
    "from sklearn.linear_model import LinearRegression"
   ]
  },
  {
   "cell_type": "code",
   "execution_count": 141,
   "id": "8016b62b",
   "metadata": {},
   "outputs": [],
   "source": [
    "lm = LinearRegression()\n",
    "X = data[['Cumulative_deaths']]\n",
    "Y = data['Cumulative_cases']"
   ]
  },
  {
   "cell_type": "code",
   "execution_count": 142,
   "id": "bb4e5f84",
   "metadata": {},
   "outputs": [
    {
     "data": {
      "text/plain": [
       "LinearRegression()"
      ]
     },
     "execution_count": 142,
     "metadata": {},
     "output_type": "execute_result"
    }
   ],
   "source": [
    "lm.fit(X,Y)"
   ]
  },
  {
   "cell_type": "code",
   "execution_count": 196,
   "id": "1a76066e",
   "metadata": {},
   "outputs": [
    {
     "data": {
      "text/plain": [
       "0.8350810982362411"
      ]
     },
     "execution_count": 196,
     "metadata": {},
     "output_type": "execute_result"
    }
   ],
   "source": [
    "# Linear regression\n",
    "\n",
    "X = data[['Cumulative_cases']]\n",
    "Y = data['Cumulative_deaths']\n",
    "lm = LinearRegression()\n",
    "lm\n",
    "lm.fit(X,Y)\n",
    "lm.score(X,Y)"
   ]
  },
  {
   "cell_type": "code",
   "execution_count": 143,
   "id": "1600e902",
   "metadata": {},
   "outputs": [
    {
     "data": {
      "text/plain": [
       "array([-29967.0082232, -29967.0082232, -29967.0082232, -29967.0082232,\n",
       "       -29967.0082232])"
      ]
     },
     "execution_count": 143,
     "metadata": {},
     "output_type": "execute_result"
    }
   ],
   "source": [
    "Yhat=lm.predict(X)\n",
    "Yhat[0:5] "
   ]
  },
  {
   "cell_type": "code",
   "execution_count": 144,
   "id": "ebc300da",
   "metadata": {},
   "outputs": [
    {
     "data": {
      "text/plain": [
       "-29967.00822319789"
      ]
     },
     "execution_count": 144,
     "metadata": {},
     "output_type": "execute_result"
    }
   ],
   "source": [
    "lm.intercept_"
   ]
  },
  {
   "cell_type": "code",
   "execution_count": 145,
   "id": "06ffeda0",
   "metadata": {},
   "outputs": [
    {
     "data": {
      "text/plain": [
       "array([54.85997694])"
      ]
     },
     "execution_count": 145,
     "metadata": {},
     "output_type": "execute_result"
    }
   ],
   "source": [
    "lm.coef_"
   ]
  },
  {
   "cell_type": "code",
   "execution_count": 147,
   "id": "f3cc2d03",
   "metadata": {},
   "outputs": [
    {
     "name": "stdout",
     "output_type": "stream",
     "text": [
      "Value of the intercept \n",
      " -29967.00822319789\n",
      "Value of the Slope \n",
      " [54.85997694]\n"
     ]
    }
   ],
   "source": [
    "# Values of the intercept and Value of slope\n",
    "\n",
    "lm0 = LinearRegression()\n",
    "\n",
    "lm0.fit( data[['Cumulative_deaths']], data['Cumulative_cases'])\n",
    "print(\"Value of the intercept \\n {}\".format(lm0.intercept_))\n",
    "print(\"Value of the Slope \\n {}\".format(lm0.coef_))"
   ]
  },
  {
   "cell_type": "code",
   "execution_count": 197,
   "id": "2b9999ea",
   "metadata": {},
   "outputs": [
    {
     "name": "stdout",
     "output_type": "stream",
     "text": [
      "The R-square is:  0.8350810982362411\n"
     ]
    }
   ],
   "source": [
    "# Finding R-Square\n",
    "\n",
    "X = data[['Cumulative_cases']]\n",
    "Y = data['Cumulative_deaths']\n",
    "lm.fit(X, Y)\n",
    "# Find the R^2\n",
    "print('The R-square is: ', lm.score(X, Y))"
   ]
  },
  {
   "cell_type": "code",
   "execution_count": 198,
   "id": "439ce0b3",
   "metadata": {},
   "outputs": [
    {
     "name": "stdout",
     "output_type": "stream",
     "text": [
      "The mean squared error of price and predicted value is:  482388920.0745983\n"
     ]
    }
   ],
   "source": [
    "# Finding the mean squared error\n",
    "\n",
    "Yhat=lm.predict(X)\n",
    "mse = mean_squared_error(data['Cumulative_deaths'], Yhat)\n",
    "print('The mean squared error of price and predicted value is: ', mse)"
   ]
  },
  {
   "cell_type": "markdown",
   "id": "ec0ade93",
   "metadata": {},
   "source": [
    "<b> Multiple linear </b>"
   ]
  },
  {
   "cell_type": "code",
   "execution_count": 199,
   "id": "9f2fbe8c",
   "metadata": {},
   "outputs": [
    {
     "name": "stdout",
     "output_type": "stream",
     "text": [
      "Value of the intercept \n",
      " -5.475158104673028e-10\n",
      "Values of the coefficients (b1, b2, b3, b4) \n",
      " [ 1.00000000e+00 -2.97253893e-16  2.24570370e-17  3.55780793e-15]\n",
      "\n",
      " Final estimated linear model\n",
      "\n",
      " Cumulative_deaths = -5.475158104673028e-10 + 1.0000000000000628*Cumulative_cases + -2.972538933714925e-16*New_deaths + 2.245703698996974e-17*New_cases\n"
     ]
    }
   ],
   "source": [
    "# Finding the estimated linear model of cumulative deaths, cumulative cases, new cases and new deaths\n",
    "\n",
    "lm1 = LinearRegression() \n",
    "Z = data[['Cumulative_deaths', 'Cumulative_cases', 'New_cases', 'New_deaths']] \n",
    "\n",
    "lm1.fit(Z, data['Cumulative_deaths'])\n",
    "print(\"Value of the intercept \\n {}\".format(lm1.intercept_))\n",
    "print(\"Values of the coefficients (b1, b2, b3, b4) \\n {}\".format(lm1.coef_))\n",
    "print(\"\\n Final estimated linear model\")\n",
    "print(f\"\\n Cumulative_deaths = {lm1.intercept_} + {lm1.coef_[0]}*Cumulative_cases + {lm1.coef_[1]}*New_deaths + {lm1.coef_[2]}*New_cases\")"
   ]
  },
  {
   "cell_type": "code",
   "execution_count": 159,
   "id": "ac58a8c6",
   "metadata": {},
   "outputs": [
    {
     "name": "stdout",
     "output_type": "stream",
     "text": [
      "Value of the intercept \n",
      " 4917.588463844475\n",
      "Values of the coefficients (b1, b2,) \n",
      " [149.5728511    0.77459021]\n",
      "\n",
      " Estimated linear model\n",
      "\n",
      " Cumulative_deaths = 4917.588463844475 + 149.57285109655714*Cumulative_cases  0.7745902093984259*New_cases\n"
     ]
    }
   ],
   "source": [
    "# Finding the estimated linear model of cumulative deaths and new cases and new deaths\n",
    "\n",
    "lm2 = LinearRegression()\n",
    "lm2.fit(data[['New_deaths','New_cases']],data['Cumulative_deaths']) \n",
    "print(\"Value of the intercept \\n {}\".format(lm2.intercept_))\n",
    "print(\"Values of the coefficients (b1, b2,) \\n {}\".format(lm2.coef_))\n",
    "print(\"\\n Estimated linear model\")\n",
    "print(f\"\\n Cumulative_deaths = {lm2.intercept_} + {lm2.coef_[0]}*Cumulative_cases  {lm2.coef_[1]}*New_cases\")"
   ]
  },
  {
   "cell_type": "code",
   "execution_count": 202,
   "id": "09d38d32",
   "metadata": {},
   "outputs": [
    {
     "name": "stdout",
     "output_type": "stream",
     "text": [
      "The R-square is:  1.0\n"
     ]
    }
   ],
   "source": [
    "# Finding the R - Square\n",
    "\n",
    "lm.fit(Z, data['Cumulative_deaths'])\n",
    "\n",
    "print('The R-square is: ', lm.score(Z, data['Cumulative_deaths']))"
   ]
  },
  {
   "cell_type": "code",
   "execution_count": 203,
   "id": "004f1d6b",
   "metadata": {},
   "outputs": [
    {
     "name": "stdout",
     "output_type": "stream",
     "text": [
      "The mean square error of Cumulative_deaths and predicted value using multifit is:  6.482961619098565e-18\n"
     ]
    }
   ],
   "source": [
    "# Finding mean squared error\n",
    "\n",
    "Y_predict_multifit = lm.predict(Z)\n",
    "print('The mean square error of Cumulative_deaths and predicted value using multifit is: ', \\\n",
    "      mean_squared_error(data['Cumulative_deaths'], Y_predict_multifit))"
   ]
  },
  {
   "cell_type": "code",
   "execution_count": null,
   "id": "a9509716",
   "metadata": {},
   "outputs": [],
   "source": []
  }
 ],
 "metadata": {
  "kernelspec": {
   "display_name": "Python 3 (ipykernel)",
   "language": "python",
   "name": "python3"
  },
  "language_info": {
   "codemirror_mode": {
    "name": "ipython",
    "version": 3
   },
   "file_extension": ".py",
   "mimetype": "text/x-python",
   "name": "python",
   "nbconvert_exporter": "python",
   "pygments_lexer": "ipython3",
   "version": "3.10.4"
  }
 },
 "nbformat": 4,
 "nbformat_minor": 5
}
