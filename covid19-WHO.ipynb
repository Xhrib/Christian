{
 "cells": [
  {
   "cell_type": "code",
   "execution_count": 2,
   "id": "1d4edbf6",
   "metadata": {},
   "outputs": [
    {
     "name": "stdout",
     "output_type": "stream",
     "text": [
      "Defaulting to user installation because normal site-packages is not writeableNote: you may need to restart the kernel to use updated packages.\n",
      "Collecting seaborn\n",
      "  Downloading seaborn-0.11.2-py3-none-any.whl (292 kB)\n",
      "     ------------------------------------- 292.8/292.8 KB 90.4 kB/s eta 0:00:00\n",
      "Requirement already satisfied: matplotlib>=2.2 in c:\\users\\admin\\appdata\\roaming\\python\\python310\\site-packages (from seaborn) (3.5.1)\n",
      "Requirement already satisfied: pandas>=0.23 in c:\\users\\admin\\appdata\\roaming\\python\\python310\\site-packages (from seaborn) (1.4.2)\n",
      "Requirement already satisfied: numpy>=1.15 in c:\\users\\admin\\appdata\\roaming\\python\\python310\\site-packages (from seaborn) (1.22.3)\n",
      "Requirement already satisfied: scipy>=1.0 in c:\\users\\admin\\appdata\\roaming\\python\\python310\\site-packages (from seaborn) (1.8.0)\n",
      "Requirement already satisfied: pyparsing>=2.2.1 in c:\\users\\admin\\appdata\\roaming\\python\\python310\\site-packages (from matplotlib>=2.2->seaborn) (3.0.7)\n",
      "Requirement already satisfied: kiwisolver>=1.0.1 in c:\\users\\admin\\appdata\\roaming\\python\\python310\\site-packages (from matplotlib>=2.2->seaborn) (1.4.2)\n",
      "Requirement already satisfied: fonttools>=4.22.0 in c:\\users\\admin\\appdata\\roaming\\python\\python310\\site-packages (from matplotlib>=2.2->seaborn) (4.32.0)\n",
      "Requirement already satisfied: packaging>=20.0 in c:\\users\\admin\\appdata\\roaming\\python\\python310\\site-packages (from matplotlib>=2.2->seaborn) (21.3)\n",
      "Requirement already satisfied: python-dateutil>=2.7 in c:\\users\\admin\\appdata\\roaming\\python\\python310\\site-packages (from matplotlib>=2.2->seaborn) (2.8.2)\n",
      "Requirement already satisfied: pillow>=6.2.0 in c:\\users\\admin\\appdata\\roaming\\python\\python310\\site-packages (from matplotlib>=2.2->seaborn) (9.1.0)\n",
      "Requirement already satisfied: cycler>=0.10 in c:\\users\\admin\\appdata\\roaming\\python\\python310\\site-packages (from matplotlib>=2.2->seaborn) (0.11.0)\n",
      "Requirement already satisfied: pytz>=2020.1 in c:\\users\\admin\\appdata\\roaming\\python\\python310\\site-packages (from pandas>=0.23->seaborn) (2022.1)\n",
      "Requirement already satisfied: six>=1.5 in c:\\users\\admin\\appdata\\roaming\\python\\python310\\site-packages (from python-dateutil>=2.7->matplotlib>=2.2->seaborn) (1.16.0)\n",
      "Installing collected packages: seaborn\n",
      "Successfully installed seaborn-0.11.2\n",
      "\n"
     ]
    }
   ],
   "source": [
    "pip install seaborn"
   ]
  },
  {
   "cell_type": "code",
   "execution_count": 3,
   "id": "bdbf0489",
   "metadata": {},
   "outputs": [],
   "source": [
    "import pandas as pd\n",
    "import matplotlib.pyplot as plt\n",
    "import numpy as np\n",
    "import seaborn as sns\n",
    "from sklearn.pipeline import Pipeline\n",
    "from sklearn.preprocessing import StandardScaler,PolynomialFeatures\n",
    "%matplotlib inline"
   ]
  },
  {
   "cell_type": "code",
   "execution_count": 9,
   "id": "bab09db3",
   "metadata": {},
   "outputs": [
    {
     "data": {
      "text/html": [
       "<div>\n",
       "<style scoped>\n",
       "    .dataframe tbody tr th:only-of-type {\n",
       "        vertical-align: middle;\n",
       "    }\n",
       "\n",
       "    .dataframe tbody tr th {\n",
       "        vertical-align: top;\n",
       "    }\n",
       "\n",
       "    .dataframe thead th {\n",
       "        text-align: right;\n",
       "    }\n",
       "</style>\n",
       "<table border=\"1\" class=\"dataframe\">\n",
       "  <thead>\n",
       "    <tr style=\"text-align: right;\">\n",
       "      <th></th>\n",
       "      <th>Name</th>\n",
       "      <th>WHO Region</th>\n",
       "      <th>Cases - cumulative total</th>\n",
       "      <th>Cases - cumulative total per 100000 population</th>\n",
       "      <th>Cases - newly reported in last 7 days</th>\n",
       "      <th>Cases - newly reported in last 7 days per 100000 population</th>\n",
       "      <th>Cases - newly reported in last 24 hours</th>\n",
       "      <th>Deaths - cumulative total</th>\n",
       "      <th>Deaths - cumulative total per 100000 population</th>\n",
       "      <th>Deaths - newly reported in last 7 days</th>\n",
       "      <th>Deaths - newly reported in last 7 days per 100000 population</th>\n",
       "      <th>Deaths - newly reported in last 24 hours</th>\n",
       "    </tr>\n",
       "  </thead>\n",
       "  <tbody>\n",
       "    <tr>\n",
       "      <th>Global</th>\n",
       "      <td>NaN</td>\n",
       "      <td>500186525</td>\n",
       "      <td>6417.139459</td>\n",
       "      <td>6448828</td>\n",
       "      <td>82.735193</td>\n",
       "      <td>948865</td>\n",
       "      <td>6190349</td>\n",
       "      <td>79.419038</td>\n",
       "      <td>21480</td>\n",
       "      <td>0.275578</td>\n",
       "      <td>4175</td>\n",
       "      <td>NaN</td>\n",
       "    </tr>\n",
       "    <tr>\n",
       "      <th>United States of America</th>\n",
       "      <td>Americas</td>\n",
       "      <td>79716960</td>\n",
       "      <td>24083.481000</td>\n",
       "      <td>214867</td>\n",
       "      <td>64.914000</td>\n",
       "      <td>28845</td>\n",
       "      <td>979321</td>\n",
       "      <td>295.865000</td>\n",
       "      <td>3658</td>\n",
       "      <td>1.105000</td>\n",
       "      <td>776</td>\n",
       "      <td>NaN</td>\n",
       "    </tr>\n",
       "    <tr>\n",
       "      <th>India</th>\n",
       "      <td>South-East Asia</td>\n",
       "      <td>43039023</td>\n",
       "      <td>3118.760000</td>\n",
       "      <td>7065</td>\n",
       "      <td>0.512000</td>\n",
       "      <td>1007</td>\n",
       "      <td>521737</td>\n",
       "      <td>37.807000</td>\n",
       "      <td>207</td>\n",
       "      <td>0.015000</td>\n",
       "      <td>1</td>\n",
       "      <td>NaN</td>\n",
       "    </tr>\n",
       "    <tr>\n",
       "      <th>Brazil</th>\n",
       "      <td>Americas</td>\n",
       "      <td>30183929</td>\n",
       "      <td>14200.231000</td>\n",
       "      <td>143800</td>\n",
       "      <td>67.652000</td>\n",
       "      <td>22724</td>\n",
       "      <td>661493</td>\n",
       "      <td>311.204000</td>\n",
       "      <td>965</td>\n",
       "      <td>0.454000</td>\n",
       "      <td>166</td>\n",
       "      <td>NaN</td>\n",
       "    </tr>\n",
       "    <tr>\n",
       "      <th>France</th>\n",
       "      <td>Europe</td>\n",
       "      <td>26525319</td>\n",
       "      <td>40783.488000</td>\n",
       "      <td>901637</td>\n",
       "      <td>1386.294000</td>\n",
       "      <td>146307</td>\n",
       "      <td>140558</td>\n",
       "      <td>216.112000</td>\n",
       "      <td>852</td>\n",
       "      <td>1.310000</td>\n",
       "      <td>152</td>\n",
       "      <td>NaN</td>\n",
       "    </tr>\n",
       "    <tr>\n",
       "      <th>Germany</th>\n",
       "      <td>Europe</td>\n",
       "      <td>23182447</td>\n",
       "      <td>27874.671000</td>\n",
       "      <td>916659</td>\n",
       "      <td>1102.195000</td>\n",
       "      <td>165368</td>\n",
       "      <td>132688</td>\n",
       "      <td>159.545000</td>\n",
       "      <td>1652</td>\n",
       "      <td>1.986000</td>\n",
       "      <td>310</td>\n",
       "      <td>NaN</td>\n",
       "    </tr>\n",
       "    <tr>\n",
       "      <th>The United Kingdom</th>\n",
       "      <td>Europe</td>\n",
       "      <td>21715120</td>\n",
       "      <td>31987.624000</td>\n",
       "      <td>230030</td>\n",
       "      <td>338.847000</td>\n",
       "      <td>35836</td>\n",
       "      <td>171046</td>\n",
       "      <td>251.961000</td>\n",
       "      <td>1360</td>\n",
       "      <td>2.003000</td>\n",
       "      <td>651</td>\n",
       "      <td>NaN</td>\n",
       "    </tr>\n",
       "    <tr>\n",
       "      <th>Russian Federation</th>\n",
       "      <td>Europe</td>\n",
       "      <td>18041927</td>\n",
       "      <td>12363.034000</td>\n",
       "      <td>86807</td>\n",
       "      <td>59.484000</td>\n",
       "      <td>11348</td>\n",
       "      <td>372766</td>\n",
       "      <td>255.434000</td>\n",
       "      <td>1877</td>\n",
       "      <td>1.286000</td>\n",
       "      <td>254</td>\n",
       "      <td>NaN</td>\n",
       "    </tr>\n",
       "    <tr>\n",
       "      <th>Republic of Korea</th>\n",
       "      <td>Western Pacific</td>\n",
       "      <td>15979061</td>\n",
       "      <td>31166.989000</td>\n",
       "      <td>1200700</td>\n",
       "      <td>2341.953000</td>\n",
       "      <td>148443</td>\n",
       "      <td>20352</td>\n",
       "      <td>39.696000</td>\n",
       "      <td>1971</td>\n",
       "      <td>3.844000</td>\n",
       "      <td>318</td>\n",
       "      <td>NaN</td>\n",
       "    </tr>\n",
       "    <tr>\n",
       "      <th>Italy</th>\n",
       "      <td>Europe</td>\n",
       "      <td>15467395</td>\n",
       "      <td>25933.952000</td>\n",
       "      <td>431452</td>\n",
       "      <td>723.409000</td>\n",
       "      <td>62586</td>\n",
       "      <td>161187</td>\n",
       "      <td>270.260000</td>\n",
       "      <td>935</td>\n",
       "      <td>1.568000</td>\n",
       "      <td>155</td>\n",
       "      <td>NaN</td>\n",
       "    </tr>\n",
       "    <tr>\n",
       "      <th>Turkey</th>\n",
       "      <td>Europe</td>\n",
       "      <td>14978031</td>\n",
       "      <td>17759.304000</td>\n",
       "      <td>48126</td>\n",
       "      <td>57.063000</td>\n",
       "      <td>5529</td>\n",
       "      <td>98493</td>\n",
       "      <td>116.782000</td>\n",
       "      <td>218</td>\n",
       "      <td>0.258000</td>\n",
       "      <td>31</td>\n",
       "      <td>NaN</td>\n",
       "    </tr>\n",
       "    <tr>\n",
       "      <th>Spain</th>\n",
       "      <td>Europe</td>\n",
       "      <td>11787004</td>\n",
       "      <td>24902.500000</td>\n",
       "      <td>50430</td>\n",
       "      <td>106.544000</td>\n",
       "      <td>0</td>\n",
       "      <td>104036</td>\n",
       "      <td>219.798000</td>\n",
       "      <td>273</td>\n",
       "      <td>0.577000</td>\n",
       "      <td>0</td>\n",
       "      <td>NaN</td>\n",
       "    </tr>\n",
       "    <tr>\n",
       "      <th>Viet Nam</th>\n",
       "      <td>Western Pacific</td>\n",
       "      <td>10297587</td>\n",
       "      <td>10579.143000</td>\n",
       "      <td>317123</td>\n",
       "      <td>325.794000</td>\n",
       "      <td>24623</td>\n",
       "      <td>42878</td>\n",
       "      <td>44.050000</td>\n",
       "      <td>166</td>\n",
       "      <td>0.171000</td>\n",
       "      <td>20</td>\n",
       "      <td>NaN</td>\n",
       "    </tr>\n",
       "    <tr>\n",
       "      <th>Argentina</th>\n",
       "      <td>Americas</td>\n",
       "      <td>9056203</td>\n",
       "      <td>20037.721000</td>\n",
       "      <td>18472</td>\n",
       "      <td>40.871000</td>\n",
       "      <td>11677</td>\n",
       "      <td>128285</td>\n",
       "      <td>283.843000</td>\n",
       "      <td>4</td>\n",
       "      <td>0.009000</td>\n",
       "      <td>0</td>\n",
       "      <td>NaN</td>\n",
       "    </tr>\n",
       "    <tr>\n",
       "      <th>Netherlands</th>\n",
       "      <td>Europe</td>\n",
       "      <td>8006753</td>\n",
       "      <td>45995.771000</td>\n",
       "      <td>58670</td>\n",
       "      <td>337.037000</td>\n",
       "      <td>4947</td>\n",
       "      <td>22138</td>\n",
       "      <td>127.174000</td>\n",
       "      <td>80</td>\n",
       "      <td>0.460000</td>\n",
       "      <td>21</td>\n",
       "      <td>NaN</td>\n",
       "    </tr>\n",
       "    <tr>\n",
       "      <th>Iran (Islamic Republic of)</th>\n",
       "      <td>Eastern Mediterranean</td>\n",
       "      <td>7199861</td>\n",
       "      <td>8571.983000</td>\n",
       "      <td>19853</td>\n",
       "      <td>23.637000</td>\n",
       "      <td>2356</td>\n",
       "      <td>140711</td>\n",
       "      <td>167.527000</td>\n",
       "      <td>260</td>\n",
       "      <td>0.310000</td>\n",
       "      <td>33</td>\n",
       "      <td>NaN</td>\n",
       "    </tr>\n",
       "    <tr>\n",
       "      <th>Japan</th>\n",
       "      <td>Western Pacific</td>\n",
       "      <td>7180734</td>\n",
       "      <td>5677.526000</td>\n",
       "      <td>348357</td>\n",
       "      <td>275.432000</td>\n",
       "      <td>56704</td>\n",
       "      <td>28825</td>\n",
       "      <td>22.791000</td>\n",
       "      <td>369</td>\n",
       "      <td>0.292000</td>\n",
       "      <td>60</td>\n",
       "      <td>NaN</td>\n",
       "    </tr>\n",
       "    <tr>\n",
       "      <th>Colombia</th>\n",
       "      <td>Americas</td>\n",
       "      <td>6088619</td>\n",
       "      <td>11965.945000</td>\n",
       "      <td>2135</td>\n",
       "      <td>4.196000</td>\n",
       "      <td>284</td>\n",
       "      <td>139729</td>\n",
       "      <td>274.609000</td>\n",
       "      <td>51</td>\n",
       "      <td>0.100000</td>\n",
       "      <td>4</td>\n",
       "      <td>NaN</td>\n",
       "    </tr>\n",
       "    <tr>\n",
       "      <th>Indonesia</th>\n",
       "      <td>South-East Asia</td>\n",
       "      <td>6037742</td>\n",
       "      <td>2207.393000</td>\n",
       "      <td>9329</td>\n",
       "      <td>3.411000</td>\n",
       "      <td>833</td>\n",
       "      <td>155794</td>\n",
       "      <td>56.958000</td>\n",
       "      <td>285</td>\n",
       "      <td>0.104000</td>\n",
       "      <td>48</td>\n",
       "      <td>NaN</td>\n",
       "    </tr>\n",
       "    <tr>\n",
       "      <th>Poland</th>\n",
       "      <td>Europe</td>\n",
       "      <td>5982664</td>\n",
       "      <td>15761.216000</td>\n",
       "      <td>7624</td>\n",
       "      <td>20.085000</td>\n",
       "      <td>1178</td>\n",
       "      <td>115775</td>\n",
       "      <td>305.007000</td>\n",
       "      <td>239</td>\n",
       "      <td>0.630000</td>\n",
       "      <td>39</td>\n",
       "      <td>NaN</td>\n",
       "    </tr>\n",
       "  </tbody>\n",
       "</table>\n",
       "</div>"
      ],
      "text/plain": [
       "                                             Name  WHO Region  \\\n",
       "Global                                        NaN   500186525   \n",
       "United States of America                 Americas    79716960   \n",
       "India                             South-East Asia    43039023   \n",
       "Brazil                                   Americas    30183929   \n",
       "France                                     Europe    26525319   \n",
       "Germany                                    Europe    23182447   \n",
       "The United Kingdom                         Europe    21715120   \n",
       "Russian Federation                         Europe    18041927   \n",
       "Republic of Korea                 Western Pacific    15979061   \n",
       "Italy                                      Europe    15467395   \n",
       "Turkey                                     Europe    14978031   \n",
       "Spain                                      Europe    11787004   \n",
       "Viet Nam                          Western Pacific    10297587   \n",
       "Argentina                                Americas     9056203   \n",
       "Netherlands                                Europe     8006753   \n",
       "Iran (Islamic Republic of)  Eastern Mediterranean     7199861   \n",
       "Japan                             Western Pacific     7180734   \n",
       "Colombia                                 Americas     6088619   \n",
       "Indonesia                         South-East Asia     6037742   \n",
       "Poland                                     Europe     5982664   \n",
       "\n",
       "                            Cases - cumulative total  \\\n",
       "Global                                   6417.139459   \n",
       "United States of America                24083.481000   \n",
       "India                                    3118.760000   \n",
       "Brazil                                  14200.231000   \n",
       "France                                  40783.488000   \n",
       "Germany                                 27874.671000   \n",
       "The United Kingdom                      31987.624000   \n",
       "Russian Federation                      12363.034000   \n",
       "Republic of Korea                       31166.989000   \n",
       "Italy                                   25933.952000   \n",
       "Turkey                                  17759.304000   \n",
       "Spain                                   24902.500000   \n",
       "Viet Nam                                10579.143000   \n",
       "Argentina                               20037.721000   \n",
       "Netherlands                             45995.771000   \n",
       "Iran (Islamic Republic of)               8571.983000   \n",
       "Japan                                    5677.526000   \n",
       "Colombia                                11965.945000   \n",
       "Indonesia                                2207.393000   \n",
       "Poland                                  15761.216000   \n",
       "\n",
       "                            Cases - cumulative total per 100000 population  \\\n",
       "Global                                                             6448828   \n",
       "United States of America                                            214867   \n",
       "India                                                                 7065   \n",
       "Brazil                                                              143800   \n",
       "France                                                              901637   \n",
       "Germany                                                             916659   \n",
       "The United Kingdom                                                  230030   \n",
       "Russian Federation                                                   86807   \n",
       "Republic of Korea                                                  1200700   \n",
       "Italy                                                               431452   \n",
       "Turkey                                                               48126   \n",
       "Spain                                                                50430   \n",
       "Viet Nam                                                            317123   \n",
       "Argentina                                                            18472   \n",
       "Netherlands                                                          58670   \n",
       "Iran (Islamic Republic of)                                           19853   \n",
       "Japan                                                               348357   \n",
       "Colombia                                                              2135   \n",
       "Indonesia                                                             9329   \n",
       "Poland                                                                7624   \n",
       "\n",
       "                            Cases - newly reported in last 7 days  \\\n",
       "Global                                                  82.735193   \n",
       "United States of America                                64.914000   \n",
       "India                                                    0.512000   \n",
       "Brazil                                                  67.652000   \n",
       "France                                                1386.294000   \n",
       "Germany                                               1102.195000   \n",
       "The United Kingdom                                     338.847000   \n",
       "Russian Federation                                      59.484000   \n",
       "Republic of Korea                                     2341.953000   \n",
       "Italy                                                  723.409000   \n",
       "Turkey                                                  57.063000   \n",
       "Spain                                                  106.544000   \n",
       "Viet Nam                                               325.794000   \n",
       "Argentina                                               40.871000   \n",
       "Netherlands                                            337.037000   \n",
       "Iran (Islamic Republic of)                              23.637000   \n",
       "Japan                                                  275.432000   \n",
       "Colombia                                                 4.196000   \n",
       "Indonesia                                                3.411000   \n",
       "Poland                                                  20.085000   \n",
       "\n",
       "                            Cases - newly reported in last 7 days per 100000 population  \\\n",
       "Global                                                                 948865             \n",
       "United States of America                                                28845             \n",
       "India                                                                    1007             \n",
       "Brazil                                                                  22724             \n",
       "France                                                                 146307             \n",
       "Germany                                                                165368             \n",
       "The United Kingdom                                                      35836             \n",
       "Russian Federation                                                      11348             \n",
       "Republic of Korea                                                      148443             \n",
       "Italy                                                                   62586             \n",
       "Turkey                                                                   5529             \n",
       "Spain                                                                       0             \n",
       "Viet Nam                                                                24623             \n",
       "Argentina                                                               11677             \n",
       "Netherlands                                                              4947             \n",
       "Iran (Islamic Republic of)                                               2356             \n",
       "Japan                                                                   56704             \n",
       "Colombia                                                                  284             \n",
       "Indonesia                                                                 833             \n",
       "Poland                                                                   1178             \n",
       "\n",
       "                            Cases - newly reported in last 24 hours  \\\n",
       "Global                                                      6190349   \n",
       "United States of America                                     979321   \n",
       "India                                                        521737   \n",
       "Brazil                                                       661493   \n",
       "France                                                       140558   \n",
       "Germany                                                      132688   \n",
       "The United Kingdom                                           171046   \n",
       "Russian Federation                                           372766   \n",
       "Republic of Korea                                             20352   \n",
       "Italy                                                        161187   \n",
       "Turkey                                                        98493   \n",
       "Spain                                                        104036   \n",
       "Viet Nam                                                      42878   \n",
       "Argentina                                                    128285   \n",
       "Netherlands                                                   22138   \n",
       "Iran (Islamic Republic of)                                   140711   \n",
       "Japan                                                         28825   \n",
       "Colombia                                                     139729   \n",
       "Indonesia                                                    155794   \n",
       "Poland                                                       115775   \n",
       "\n",
       "                            Deaths - cumulative total  \\\n",
       "Global                                      79.419038   \n",
       "United States of America                   295.865000   \n",
       "India                                       37.807000   \n",
       "Brazil                                     311.204000   \n",
       "France                                     216.112000   \n",
       "Germany                                    159.545000   \n",
       "The United Kingdom                         251.961000   \n",
       "Russian Federation                         255.434000   \n",
       "Republic of Korea                           39.696000   \n",
       "Italy                                      270.260000   \n",
       "Turkey                                     116.782000   \n",
       "Spain                                      219.798000   \n",
       "Viet Nam                                    44.050000   \n",
       "Argentina                                  283.843000   \n",
       "Netherlands                                127.174000   \n",
       "Iran (Islamic Republic of)                 167.527000   \n",
       "Japan                                       22.791000   \n",
       "Colombia                                   274.609000   \n",
       "Indonesia                                   56.958000   \n",
       "Poland                                     305.007000   \n",
       "\n",
       "                            Deaths - cumulative total per 100000 population  \\\n",
       "Global                                                                21480   \n",
       "United States of America                                               3658   \n",
       "India                                                                   207   \n",
       "Brazil                                                                  965   \n",
       "France                                                                  852   \n",
       "Germany                                                                1652   \n",
       "The United Kingdom                                                     1360   \n",
       "Russian Federation                                                     1877   \n",
       "Republic of Korea                                                      1971   \n",
       "Italy                                                                   935   \n",
       "Turkey                                                                  218   \n",
       "Spain                                                                   273   \n",
       "Viet Nam                                                                166   \n",
       "Argentina                                                                 4   \n",
       "Netherlands                                                              80   \n",
       "Iran (Islamic Republic of)                                              260   \n",
       "Japan                                                                   369   \n",
       "Colombia                                                                 51   \n",
       "Indonesia                                                               285   \n",
       "Poland                                                                  239   \n",
       "\n",
       "                            Deaths - newly reported in last 7 days  \\\n",
       "Global                                                    0.275578   \n",
       "United States of America                                  1.105000   \n",
       "India                                                     0.015000   \n",
       "Brazil                                                    0.454000   \n",
       "France                                                    1.310000   \n",
       "Germany                                                   1.986000   \n",
       "The United Kingdom                                        2.003000   \n",
       "Russian Federation                                        1.286000   \n",
       "Republic of Korea                                         3.844000   \n",
       "Italy                                                     1.568000   \n",
       "Turkey                                                    0.258000   \n",
       "Spain                                                     0.577000   \n",
       "Viet Nam                                                  0.171000   \n",
       "Argentina                                                 0.009000   \n",
       "Netherlands                                               0.460000   \n",
       "Iran (Islamic Republic of)                                0.310000   \n",
       "Japan                                                     0.292000   \n",
       "Colombia                                                  0.100000   \n",
       "Indonesia                                                 0.104000   \n",
       "Poland                                                    0.630000   \n",
       "\n",
       "                            Deaths - newly reported in last 7 days per 100000 population  \\\n",
       "Global                                                                   4175              \n",
       "United States of America                                                  776              \n",
       "India                                                                       1              \n",
       "Brazil                                                                    166              \n",
       "France                                                                    152              \n",
       "Germany                                                                   310              \n",
       "The United Kingdom                                                        651              \n",
       "Russian Federation                                                        254              \n",
       "Republic of Korea                                                         318              \n",
       "Italy                                                                     155              \n",
       "Turkey                                                                     31              \n",
       "Spain                                                                       0              \n",
       "Viet Nam                                                                   20              \n",
       "Argentina                                                                   0              \n",
       "Netherlands                                                                21              \n",
       "Iran (Islamic Republic of)                                                 33              \n",
       "Japan                                                                      60              \n",
       "Colombia                                                                    4              \n",
       "Indonesia                                                                  48              \n",
       "Poland                                                                     39              \n",
       "\n",
       "                            Deaths - newly reported in last 24 hours  \n",
       "Global                                                           NaN  \n",
       "United States of America                                         NaN  \n",
       "India                                                            NaN  \n",
       "Brazil                                                           NaN  \n",
       "France                                                           NaN  \n",
       "Germany                                                          NaN  \n",
       "The United Kingdom                                               NaN  \n",
       "Russian Federation                                               NaN  \n",
       "Republic of Korea                                                NaN  \n",
       "Italy                                                            NaN  \n",
       "Turkey                                                           NaN  \n",
       "Spain                                                            NaN  \n",
       "Viet Nam                                                         NaN  \n",
       "Argentina                                                        NaN  \n",
       "Netherlands                                                      NaN  \n",
       "Iran (Islamic Republic of)                                       NaN  \n",
       "Japan                                                            NaN  \n",
       "Colombia                                                         NaN  \n",
       "Indonesia                                                        NaN  \n",
       "Poland                                                           NaN  "
      ]
     },
     "execution_count": 9,
     "metadata": {},
     "output_type": "execute_result"
    }
   ],
   "source": [
    "data= pd.read_csv('WHO-COVID-19-global-table-data.csv') #reading the dataset\n",
    "data.head(20)"
   ]
  },
  {
   "cell_type": "code",
   "execution_count": 12,
   "id": "a5fe893c",
   "metadata": {},
   "outputs": [
    {
     "data": {
      "text/plain": [
       "(238, 12)"
      ]
     },
     "execution_count": 12,
     "metadata": {},
     "output_type": "execute_result"
    }
   ],
   "source": [
    "data.shape"
   ]
  },
  {
   "cell_type": "code",
   "execution_count": 13,
   "id": "8d15ce29",
   "metadata": {},
   "outputs": [
    {
     "data": {
      "text/html": [
       "<div>\n",
       "<style scoped>\n",
       "    .dataframe tbody tr th:only-of-type {\n",
       "        vertical-align: middle;\n",
       "    }\n",
       "\n",
       "    .dataframe tbody tr th {\n",
       "        vertical-align: top;\n",
       "    }\n",
       "\n",
       "    .dataframe thead th {\n",
       "        text-align: right;\n",
       "    }\n",
       "</style>\n",
       "<table border=\"1\" class=\"dataframe\">\n",
       "  <thead>\n",
       "    <tr style=\"text-align: right;\">\n",
       "      <th></th>\n",
       "      <th>WHO Region</th>\n",
       "      <th>Cases - cumulative total</th>\n",
       "      <th>Cases - cumulative total per 100000 population</th>\n",
       "      <th>Cases - newly reported in last 7 days</th>\n",
       "      <th>Cases - newly reported in last 7 days per 100000 population</th>\n",
       "      <th>Cases - newly reported in last 24 hours</th>\n",
       "      <th>Deaths - cumulative total</th>\n",
       "      <th>Deaths - cumulative total per 100000 population</th>\n",
       "      <th>Deaths - newly reported in last 7 days</th>\n",
       "      <th>Deaths - newly reported in last 7 days per 100000 population</th>\n",
       "      <th>Deaths - newly reported in last 24 hours</th>\n",
       "    </tr>\n",
       "  </thead>\n",
       "  <tbody>\n",
       "    <tr>\n",
       "      <th>count</th>\n",
       "      <td>2.380000e+02</td>\n",
       "      <td>237.000000</td>\n",
       "      <td>2.380000e+02</td>\n",
       "      <td>237.000000</td>\n",
       "      <td>238.000000</td>\n",
       "      <td>2.380000e+02</td>\n",
       "      <td>237.000000</td>\n",
       "      <td>238.000000</td>\n",
       "      <td>237.000000</td>\n",
       "      <td>238.000000</td>\n",
       "      <td>0.0</td>\n",
       "    </tr>\n",
       "    <tr>\n",
       "      <th>mean</th>\n",
       "      <td>4.203248e+06</td>\n",
       "      <td>14461.142491</td>\n",
       "      <td>5.419183e+04</td>\n",
       "      <td>248.794081</td>\n",
       "      <td>7973.655462</td>\n",
       "      <td>5.201974e+04</td>\n",
       "      <td>109.830004</td>\n",
       "      <td>180.504202</td>\n",
       "      <td>0.574209</td>\n",
       "      <td>35.084034</td>\n",
       "      <td>NaN</td>\n",
       "    </tr>\n",
       "    <tr>\n",
       "      <th>std</th>\n",
       "      <td>3.304720e+07</td>\n",
       "      <td>15030.247719</td>\n",
       "      <td>4.343996e+05</td>\n",
       "      <td>704.944267</td>\n",
       "      <td>64033.589261</td>\n",
       "      <td>4.103113e+05</td>\n",
       "      <td>118.852491</td>\n",
       "      <td>1428.698537</td>\n",
       "      <td>1.583661</td>\n",
       "      <td>280.169421</td>\n",
       "      <td>NaN</td>\n",
       "    </tr>\n",
       "    <tr>\n",
       "      <th>min</th>\n",
       "      <td>0.000000e+00</td>\n",
       "      <td>0.000000</td>\n",
       "      <td>-4.000000e+00</td>\n",
       "      <td>-1.006000</td>\n",
       "      <td>0.000000</td>\n",
       "      <td>0.000000e+00</td>\n",
       "      <td>0.000000</td>\n",
       "      <td>0.000000</td>\n",
       "      <td>0.000000</td>\n",
       "      <td>0.000000</td>\n",
       "      <td>NaN</td>\n",
       "    </tr>\n",
       "    <tr>\n",
       "      <th>25%</th>\n",
       "      <td>1.726925e+04</td>\n",
       "      <td>1185.381000</td>\n",
       "      <td>2.525000e+01</td>\n",
       "      <td>0.410000</td>\n",
       "      <td>0.000000</td>\n",
       "      <td>1.425000e+02</td>\n",
       "      <td>11.736000</td>\n",
       "      <td>0.000000</td>\n",
       "      <td>0.000000</td>\n",
       "      <td>0.000000</td>\n",
       "      <td>NaN</td>\n",
       "    </tr>\n",
       "    <tr>\n",
       "      <th>50%</th>\n",
       "      <td>1.595000e+05</td>\n",
       "      <td>9694.987000</td>\n",
       "      <td>2.830000e+02</td>\n",
       "      <td>11.918000</td>\n",
       "      <td>4.000000</td>\n",
       "      <td>1.466000e+03</td>\n",
       "      <td>68.545000</td>\n",
       "      <td>1.000000</td>\n",
       "      <td>0.015000</td>\n",
       "      <td>0.000000</td>\n",
       "      <td>NaN</td>\n",
       "    </tr>\n",
       "    <tr>\n",
       "      <th>75%</th>\n",
       "      <td>9.890312e+05</td>\n",
       "      <td>24083.481000</td>\n",
       "      <td>3.734000e+03</td>\n",
       "      <td>200.550000</td>\n",
       "      <td>369.000000</td>\n",
       "      <td>1.183250e+04</td>\n",
       "      <td>174.197000</td>\n",
       "      <td>21.750000</td>\n",
       "      <td>0.525000</td>\n",
       "      <td>2.000000</td>\n",
       "      <td>NaN</td>\n",
       "    </tr>\n",
       "    <tr>\n",
       "      <th>max</th>\n",
       "      <td>5.001865e+08</td>\n",
       "      <td>70926.021000</td>\n",
       "      <td>6.448828e+06</td>\n",
       "      <td>6518.365000</td>\n",
       "      <td>948865.000000</td>\n",
       "      <td>6.190349e+06</td>\n",
       "      <td>644.574000</td>\n",
       "      <td>21480.000000</td>\n",
       "      <td>18.117000</td>\n",
       "      <td>4175.000000</td>\n",
       "      <td>NaN</td>\n",
       "    </tr>\n",
       "  </tbody>\n",
       "</table>\n",
       "</div>"
      ],
      "text/plain": [
       "         WHO Region  Cases - cumulative total  \\\n",
       "count  2.380000e+02                237.000000   \n",
       "mean   4.203248e+06              14461.142491   \n",
       "std    3.304720e+07              15030.247719   \n",
       "min    0.000000e+00                  0.000000   \n",
       "25%    1.726925e+04               1185.381000   \n",
       "50%    1.595000e+05               9694.987000   \n",
       "75%    9.890312e+05              24083.481000   \n",
       "max    5.001865e+08              70926.021000   \n",
       "\n",
       "       Cases - cumulative total per 100000 population  \\\n",
       "count                                    2.380000e+02   \n",
       "mean                                     5.419183e+04   \n",
       "std                                      4.343996e+05   \n",
       "min                                     -4.000000e+00   \n",
       "25%                                      2.525000e+01   \n",
       "50%                                      2.830000e+02   \n",
       "75%                                      3.734000e+03   \n",
       "max                                      6.448828e+06   \n",
       "\n",
       "       Cases - newly reported in last 7 days  \\\n",
       "count                             237.000000   \n",
       "mean                              248.794081   \n",
       "std                               704.944267   \n",
       "min                                -1.006000   \n",
       "25%                                 0.410000   \n",
       "50%                                11.918000   \n",
       "75%                               200.550000   \n",
       "max                              6518.365000   \n",
       "\n",
       "       Cases - newly reported in last 7 days per 100000 population  \\\n",
       "count                                         238.000000             \n",
       "mean                                         7973.655462             \n",
       "std                                         64033.589261             \n",
       "min                                             0.000000             \n",
       "25%                                             0.000000             \n",
       "50%                                             4.000000             \n",
       "75%                                           369.000000             \n",
       "max                                        948865.000000             \n",
       "\n",
       "       Cases - newly reported in last 24 hours  Deaths - cumulative total  \\\n",
       "count                             2.380000e+02                 237.000000   \n",
       "mean                              5.201974e+04                 109.830004   \n",
       "std                               4.103113e+05                 118.852491   \n",
       "min                               0.000000e+00                   0.000000   \n",
       "25%                               1.425000e+02                  11.736000   \n",
       "50%                               1.466000e+03                  68.545000   \n",
       "75%                               1.183250e+04                 174.197000   \n",
       "max                               6.190349e+06                 644.574000   \n",
       "\n",
       "       Deaths - cumulative total per 100000 population  \\\n",
       "count                                       238.000000   \n",
       "mean                                        180.504202   \n",
       "std                                        1428.698537   \n",
       "min                                           0.000000   \n",
       "25%                                           0.000000   \n",
       "50%                                           1.000000   \n",
       "75%                                          21.750000   \n",
       "max                                       21480.000000   \n",
       "\n",
       "       Deaths - newly reported in last 7 days  \\\n",
       "count                              237.000000   \n",
       "mean                                 0.574209   \n",
       "std                                  1.583661   \n",
       "min                                  0.000000   \n",
       "25%                                  0.000000   \n",
       "50%                                  0.015000   \n",
       "75%                                  0.525000   \n",
       "max                                 18.117000   \n",
       "\n",
       "       Deaths - newly reported in last 7 days per 100000 population  \\\n",
       "count                                         238.000000              \n",
       "mean                                           35.084034              \n",
       "std                                           280.169421              \n",
       "min                                             0.000000              \n",
       "25%                                             0.000000              \n",
       "50%                                             0.000000              \n",
       "75%                                             2.000000              \n",
       "max                                          4175.000000              \n",
       "\n",
       "       Deaths - newly reported in last 24 hours  \n",
       "count                                       0.0  \n",
       "mean                                        NaN  \n",
       "std                                         NaN  \n",
       "min                                         NaN  \n",
       "25%                                         NaN  \n",
       "50%                                         NaN  \n",
       "75%                                         NaN  \n",
       "max                                         NaN  "
      ]
     },
     "execution_count": 13,
     "metadata": {},
     "output_type": "execute_result"
    }
   ],
   "source": [
    "data.describe()"
   ]
  },
  {
   "cell_type": "code",
   "execution_count": 97,
   "id": "3ecccab0",
   "metadata": {},
   "outputs": [],
   "source": [
    "from sklearn.linear_model import LinearRegression \n",
    "from sklearn.metrics import mean_squared_error\n",
    "from sklearn.model_selection import train_test_split"
   ]
  },
  {
   "cell_type": "markdown",
   "id": "c91a3bc4",
   "metadata": {},
   "source": [
    "<b> Checking for columns with NaN values </b>"
   ]
  },
  {
   "cell_type": "code",
   "execution_count": 26,
   "id": "a3234247",
   "metadata": {},
   "outputs": [
    {
     "name": "stdout",
     "output_type": "stream",
     "text": [
      "number of NaN values for the column Name : 1\n",
      "number of NaN values for the column WHO Region: 0\n",
      "number of NaN values for the column Cases - cumulative total: 1\n",
      "number of NaN values for the column Cases - newly reported in last 7 days: 1\n",
      "number of NaN values for the column Cases - newly reported in last 24 hours: 0\n",
      "number of NaN values for the column Deaths - cumulative total: 1\n",
      "number of NaN values for the column Deaths - newly reported in last 7 days: 1\n"
     ]
    }
   ],
   "source": [
    "print(\"number of NaN values for the column Name :\", data['Name'].isnull().sum())\n",
    "print(\"number of NaN values for the column WHO Region:\", data['WHO Region'].isnull().sum())\n",
    "print(\"number of NaN values for the column Cases - cumulative total:\", data['Cases - cumulative total'].isnull().sum())\n",
    "print(\"number of NaN values for the column Cases - newly reported in last 7 days:\", data['Cases - newly reported in last 7 days'].isnull().sum())\n",
    "print(\"number of NaN values for the column Cases - newly reported in last 24 hours:\", data['Cases - newly reported in last 24 hours'].isnull().sum())\n",
    "print(\"number of NaN values for the column Deaths - cumulative total:\", data['Deaths - cumulative total'].isnull().sum())\n",
    "print(\"number of NaN values for the column Deaths - newly reported in last 7 days:\", data['Deaths - newly reported in last 7 days'].isnull().sum())"
   ]
  },
  {
   "cell_type": "markdown",
   "id": "2cf48a5f",
   "metadata": {},
   "source": [
    "<b> drop off some columns </b>"
   ]
  },
  {
   "cell_type": "code",
   "execution_count": 30,
   "id": "05a5577a",
   "metadata": {},
   "outputs": [
    {
     "data": {
      "text/html": [
       "<div>\n",
       "<style scoped>\n",
       "    .dataframe tbody tr th:only-of-type {\n",
       "        vertical-align: middle;\n",
       "    }\n",
       "\n",
       "    .dataframe tbody tr th {\n",
       "        vertical-align: top;\n",
       "    }\n",
       "\n",
       "    .dataframe thead th {\n",
       "        text-align: right;\n",
       "    }\n",
       "</style>\n",
       "<table border=\"1\" class=\"dataframe\">\n",
       "  <thead>\n",
       "    <tr style=\"text-align: right;\">\n",
       "      <th></th>\n",
       "      <th>Deaths - cumulative total</th>\n",
       "      <th>Cases - cumulative total</th>\n",
       "      <th>Cases - newly reported in last 7 days</th>\n",
       "      <th>Cases - newly reported in last 24 hours</th>\n",
       "    </tr>\n",
       "  </thead>\n",
       "  <tbody>\n",
       "    <tr>\n",
       "      <th>Global</th>\n",
       "      <td>79.419038</td>\n",
       "      <td>6417.139459</td>\n",
       "      <td>82.735193</td>\n",
       "      <td>6190349</td>\n",
       "    </tr>\n",
       "    <tr>\n",
       "      <th>United States of America</th>\n",
       "      <td>295.865000</td>\n",
       "      <td>24083.481000</td>\n",
       "      <td>64.914000</td>\n",
       "      <td>979321</td>\n",
       "    </tr>\n",
       "    <tr>\n",
       "      <th>India</th>\n",
       "      <td>37.807000</td>\n",
       "      <td>3118.760000</td>\n",
       "      <td>0.512000</td>\n",
       "      <td>521737</td>\n",
       "    </tr>\n",
       "    <tr>\n",
       "      <th>Brazil</th>\n",
       "      <td>311.204000</td>\n",
       "      <td>14200.231000</td>\n",
       "      <td>67.652000</td>\n",
       "      <td>661493</td>\n",
       "    </tr>\n",
       "    <tr>\n",
       "      <th>France</th>\n",
       "      <td>216.112000</td>\n",
       "      <td>40783.488000</td>\n",
       "      <td>1386.294000</td>\n",
       "      <td>140558</td>\n",
       "    </tr>\n",
       "    <tr>\n",
       "      <th>Germany</th>\n",
       "      <td>159.545000</td>\n",
       "      <td>27874.671000</td>\n",
       "      <td>1102.195000</td>\n",
       "      <td>132688</td>\n",
       "    </tr>\n",
       "    <tr>\n",
       "      <th>The United Kingdom</th>\n",
       "      <td>251.961000</td>\n",
       "      <td>31987.624000</td>\n",
       "      <td>338.847000</td>\n",
       "      <td>171046</td>\n",
       "    </tr>\n",
       "    <tr>\n",
       "      <th>Russian Federation</th>\n",
       "      <td>255.434000</td>\n",
       "      <td>12363.034000</td>\n",
       "      <td>59.484000</td>\n",
       "      <td>372766</td>\n",
       "    </tr>\n",
       "    <tr>\n",
       "      <th>Republic of Korea</th>\n",
       "      <td>39.696000</td>\n",
       "      <td>31166.989000</td>\n",
       "      <td>2341.953000</td>\n",
       "      <td>20352</td>\n",
       "    </tr>\n",
       "    <tr>\n",
       "      <th>Italy</th>\n",
       "      <td>270.260000</td>\n",
       "      <td>25933.952000</td>\n",
       "      <td>723.409000</td>\n",
       "      <td>161187</td>\n",
       "    </tr>\n",
       "  </tbody>\n",
       "</table>\n",
       "</div>"
      ],
      "text/plain": [
       "                          Deaths - cumulative total  Cases - cumulative total  \\\n",
       "Global                                    79.419038               6417.139459   \n",
       "United States of America                 295.865000              24083.481000   \n",
       "India                                     37.807000               3118.760000   \n",
       "Brazil                                   311.204000              14200.231000   \n",
       "France                                   216.112000              40783.488000   \n",
       "Germany                                  159.545000              27874.671000   \n",
       "The United Kingdom                       251.961000              31987.624000   \n",
       "Russian Federation                       255.434000              12363.034000   \n",
       "Republic of Korea                         39.696000              31166.989000   \n",
       "Italy                                    270.260000              25933.952000   \n",
       "\n",
       "                          Cases - newly reported in last 7 days  \\\n",
       "Global                                                82.735193   \n",
       "United States of America                              64.914000   \n",
       "India                                                  0.512000   \n",
       "Brazil                                                67.652000   \n",
       "France                                              1386.294000   \n",
       "Germany                                             1102.195000   \n",
       "The United Kingdom                                   338.847000   \n",
       "Russian Federation                                    59.484000   \n",
       "Republic of Korea                                   2341.953000   \n",
       "Italy                                                723.409000   \n",
       "\n",
       "                          Cases - newly reported in last 24 hours  \n",
       "Global                                                    6190349  \n",
       "United States of America                                   979321  \n",
       "India                                                      521737  \n",
       "Brazil                                                     661493  \n",
       "France                                                     140558  \n",
       "Germany                                                    132688  \n",
       "The United Kingdom                                         171046  \n",
       "Russian Federation                                         372766  \n",
       "Republic of Korea                                           20352  \n",
       "Italy                                                      161187  "
      ]
     },
     "execution_count": 30,
     "metadata": {},
     "output_type": "execute_result"
    }
   ],
   "source": [
    "data2 = data[['Deaths - cumulative total','Cases - cumulative total','Cases - newly reported in last 7 days', 'Cases - newly reported in last 24 hours']]\n",
    "data2.head(10)"
   ]
  },
  {
   "cell_type": "code",
   "execution_count": 34,
   "id": "ce38a1ce",
   "metadata": {},
   "outputs": [
    {
     "name": "stdout",
     "output_type": "stream",
     "text": [
      "Number of NaN values for the column Cases - cumulative total: 1\n",
      "Number of NaN values for the column Cases - newly reported in last 7 days: 1\n",
      "Number of NaN values for the column Cases - newly reported in last 24 hours: 0\n",
      "Number of NaN values for the column Deaths - cumulative total: 1\n"
     ]
    }
   ],
   "source": [
    "# Checking for Columns with NaN in the selceted columns\n",
    "\n",
    "print(\"Number of NaN values for the column Cases - cumulative total:\", data2['Cases - cumulative total'].isnull().sum())\n",
    "print(\"Number of NaN values for the column Cases - newly reported in last 7 days:\", data2['Cases - newly reported in last 7 days'].isnull().sum())\n",
    "print(\"Number of NaN values for the column Cases - newly reported in last 24 hours:\", data2['Cases - newly reported in last 24 hours'].isnull().sum())\n",
    "print(\"Number of NaN values for the column Deaths - cumulative total:\", data2['Deaths - cumulative total'].isnull().sum())\n"
   ]
  },
  {
   "cell_type": "code",
   "execution_count": 196,
   "id": "f1773841",
   "metadata": {},
   "outputs": [
    {
     "name": "stderr",
     "output_type": "stream",
     "text": [
      "C:\\Program Files\\KMSpico\\temp\\ipykernel_7844\\1529350916.py:3: SettingWithCopyWarning: \n",
      "A value is trying to be set on a copy of a slice from a DataFrame\n",
      "\n",
      "See the caveats in the documentation: https://pandas.pydata.org/pandas-docs/stable/user_guide/indexing.html#returning-a-view-versus-a-copy\n",
      "  data2.replace('?',np.nan, inplace=True)\n",
      "C:\\Program Files\\KMSpico\\temp\\ipykernel_7844\\1529350916.py:4: SettingWithCopyWarning: \n",
      "A value is trying to be set on a copy of a slice from a DataFrame\n",
      "\n",
      "See the caveats in the documentation: https://pandas.pydata.org/pandas-docs/stable/user_guide/indexing.html#returning-a-view-versus-a-copy\n",
      "  data2.dropna(inplace=True)\n"
     ]
    }
   ],
   "source": [
    "#Eliminating NaN in columns\n",
    "\n",
    "data2.replace('?',np.nan, inplace=True)\n",
    "data2.dropna(inplace=True)"
   ]
  },
  {
   "cell_type": "code",
   "execution_count": 36,
   "id": "777482cf",
   "metadata": {},
   "outputs": [
    {
     "name": "stdout",
     "output_type": "stream",
     "text": [
      "Number of NaN values for the column Cases - cumulative total: 0\n",
      "Number of NaN values for the column Cases - newly reported in last 7 days: 0\n",
      "Number of NaN values for the column Cases - newly reported in last 24 hours: 0\n",
      "Number of NaN values for the column Deaths - cumulative total: 0\n"
     ]
    }
   ],
   "source": [
    "print(\"Number of NaN values for the column Cases - cumulative total:\", data2['Cases - cumulative total'].isnull().sum())\n",
    "print(\"Number of NaN values for the column Cases - newly reported in last 7 days:\", data2['Cases - newly reported in last 7 days'].isnull().sum())\n",
    "print(\"Number of NaN values for the column Cases - newly reported in last 24 hours:\", data2['Cases - newly reported in last 24 hours'].isnull().sum())\n",
    "print(\"Number of NaN values for the column Deaths - cumulative total:\", data2['Deaths - cumulative total'].isnull().sum())"
   ]
  },
  {
   "cell_type": "markdown",
   "id": "3d52298c",
   "metadata": {},
   "source": [
    "Finding the linear regression"
   ]
  },
  {
   "cell_type": "code",
   "execution_count": 70,
   "id": "5030d26e",
   "metadata": {},
   "outputs": [
    {
     "data": {
      "text/plain": [
       "0.23403809868452674"
      ]
     },
     "execution_count": 70,
     "metadata": {},
     "output_type": "execute_result"
    }
   ],
   "source": [
    "X = data2[['Cases - cumulative total']] \n",
    "Y = data2['Deaths - cumulative total'] \n",
    "lm = LinearRegression() \n",
    "lm \n",
    "lm.fit(X,Y)\n",
    "lm.score(X, Y)"
   ]
  },
  {
   "cell_type": "code",
   "execution_count": 39,
   "id": "3964cbe1",
   "metadata": {},
   "outputs": [
    {
     "data": {
      "text/plain": [
       "array([ 79.05786746, 146.64002507,  66.43999749, 108.83189385,\n",
       "       210.52549352])"
      ]
     },
     "execution_count": 39,
     "metadata": {},
     "output_type": "execute_result"
    }
   ],
   "source": [
    "X = data2[['Cases - cumulative total']] \n",
    "Y = data2['Deaths - cumulative total'] \n",
    "lm = LinearRegression() \n",
    "lm \n",
    "lm.fit(X,Y)\n",
    "Yhat=lm.predict(X)\n",
    "Yhat[0:5]"
   ]
  },
  {
   "cell_type": "code",
   "execution_count": 40,
   "id": "2f594805",
   "metadata": {},
   "outputs": [
    {
     "data": {
      "text/plain": [
       "54.50925736772592"
      ]
     },
     "execution_count": 40,
     "metadata": {},
     "output_type": "execute_result"
    }
   ],
   "source": [
    "lm.intercept_"
   ]
  },
  {
   "cell_type": "code",
   "execution_count": 41,
   "id": "66969cd9",
   "metadata": {},
   "outputs": [
    {
     "data": {
      "text/plain": [
       "array([0.00382548])"
      ]
     },
     "execution_count": 41,
     "metadata": {},
     "output_type": "execute_result"
    }
   ],
   "source": [
    "lm.coef_"
   ]
  },
  {
   "cell_type": "code",
   "execution_count": 42,
   "id": "8791cd86",
   "metadata": {},
   "outputs": [
    {
     "name": "stdout",
     "output_type": "stream",
     "text": [
      "Deaths - cumulative total                  float64\n",
      "Cases - cumulative total                   float64\n",
      "Cases - newly reported in last 7 days      float64\n",
      "Cases - newly reported in last 24 hours      int64\n",
      "dtype: object\n"
     ]
    }
   ],
   "source": [
    "print(data2.dtypes)"
   ]
  },
  {
   "cell_type": "code",
   "execution_count": 43,
   "id": "a34f1061",
   "metadata": {},
   "outputs": [
    {
     "name": "stderr",
     "output_type": "stream",
     "text": [
      "C:\\Program Files\\KMSpico\\temp\\ipykernel_7844\\446423244.py:1: SettingWithCopyWarning: \n",
      "A value is trying to be set on a copy of a slice from a DataFrame.\n",
      "Try using .loc[row_indexer,col_indexer] = value instead\n",
      "\n",
      "See the caveats in the documentation: https://pandas.pydata.org/pandas-docs/stable/user_guide/indexing.html#returning-a-view-versus-a-copy\n",
      "  data2['Deaths - cumulative total'] = data2['Deaths - cumulative total'].astype(float)\n",
      "C:\\Program Files\\KMSpico\\temp\\ipykernel_7844\\446423244.py:2: SettingWithCopyWarning: \n",
      "A value is trying to be set on a copy of a slice from a DataFrame.\n",
      "Try using .loc[row_indexer,col_indexer] = value instead\n",
      "\n",
      "See the caveats in the documentation: https://pandas.pydata.org/pandas-docs/stable/user_guide/indexing.html#returning-a-view-versus-a-copy\n",
      "  data2['Cases - cumulative total'] = data2['Cases - cumulative total'].astype(float)\n",
      "C:\\Program Files\\KMSpico\\temp\\ipykernel_7844\\446423244.py:3: SettingWithCopyWarning: \n",
      "A value is trying to be set on a copy of a slice from a DataFrame.\n",
      "Try using .loc[row_indexer,col_indexer] = value instead\n",
      "\n",
      "See the caveats in the documentation: https://pandas.pydata.org/pandas-docs/stable/user_guide/indexing.html#returning-a-view-versus-a-copy\n",
      "  data2['Cases - newly reported in last 7 days'] = data2['Cases - newly reported in last 7 days'].astype(float)\n",
      "C:\\Program Files\\KMSpico\\temp\\ipykernel_7844\\446423244.py:4: SettingWithCopyWarning: \n",
      "A value is trying to be set on a copy of a slice from a DataFrame.\n",
      "Try using .loc[row_indexer,col_indexer] = value instead\n",
      "\n",
      "See the caveats in the documentation: https://pandas.pydata.org/pandas-docs/stable/user_guide/indexing.html#returning-a-view-versus-a-copy\n",
      "  data2['Cases - newly reported in last 24 hours'] = data2['Cases - newly reported in last 24 hours'].astype(float)\n"
     ]
    }
   ],
   "source": [
    "data2['Deaths - cumulative total'] = data2['Deaths - cumulative total'].astype(float)\n",
    "data2['Cases - cumulative total'] = data2['Cases - cumulative total'].astype(float)\n",
    "data2['Cases - newly reported in last 7 days'] = data2['Cases - newly reported in last 7 days'].astype(float)\n",
    "data2['Cases - newly reported in last 24 hours'] = data2['Cases - newly reported in last 24 hours'].astype(float)"
   ]
  },
  {
   "cell_type": "code",
   "execution_count": 44,
   "id": "b3591aa7",
   "metadata": {},
   "outputs": [
    {
     "name": "stdout",
     "output_type": "stream",
     "text": [
      "Deaths - cumulative total                  float64\n",
      "Cases - cumulative total                   float64\n",
      "Cases - newly reported in last 7 days      float64\n",
      "Cases - newly reported in last 24 hours    float64\n",
      "dtype: object\n"
     ]
    }
   ],
   "source": [
    "print(data2.dtypes)"
   ]
  },
  {
   "cell_type": "code",
   "execution_count": 45,
   "id": "6bdc9439",
   "metadata": {},
   "outputs": [
    {
     "data": {
      "text/html": [
       "<div>\n",
       "<style scoped>\n",
       "    .dataframe tbody tr th:only-of-type {\n",
       "        vertical-align: middle;\n",
       "    }\n",
       "\n",
       "    .dataframe tbody tr th {\n",
       "        vertical-align: top;\n",
       "    }\n",
       "\n",
       "    .dataframe thead th {\n",
       "        text-align: right;\n",
       "    }\n",
       "</style>\n",
       "<table border=\"1\" class=\"dataframe\">\n",
       "  <thead>\n",
       "    <tr style=\"text-align: right;\">\n",
       "      <th></th>\n",
       "      <th>Deaths - cumulative total</th>\n",
       "      <th>Cases - cumulative total</th>\n",
       "      <th>Cases - newly reported in last 7 days</th>\n",
       "      <th>Cases - newly reported in last 24 hours</th>\n",
       "    </tr>\n",
       "  </thead>\n",
       "  <tbody>\n",
       "    <tr>\n",
       "      <th>Deaths - cumulative total</th>\n",
       "      <td>1.000000</td>\n",
       "      <td>0.483775</td>\n",
       "      <td>-0.047586</td>\n",
       "      <td>0.049432</td>\n",
       "    </tr>\n",
       "    <tr>\n",
       "      <th>Cases - cumulative total</th>\n",
       "      <td>0.483775</td>\n",
       "      <td>1.000000</td>\n",
       "      <td>0.359795</td>\n",
       "      <td>-0.028601</td>\n",
       "    </tr>\n",
       "    <tr>\n",
       "      <th>Cases - newly reported in last 7 days</th>\n",
       "      <td>-0.047586</td>\n",
       "      <td>0.359795</td>\n",
       "      <td>1.000000</td>\n",
       "      <td>-0.024095</td>\n",
       "    </tr>\n",
       "    <tr>\n",
       "      <th>Cases - newly reported in last 24 hours</th>\n",
       "      <td>0.049432</td>\n",
       "      <td>-0.028601</td>\n",
       "      <td>-0.024095</td>\n",
       "      <td>1.000000</td>\n",
       "    </tr>\n",
       "  </tbody>\n",
       "</table>\n",
       "</div>"
      ],
      "text/plain": [
       "                                         Deaths - cumulative total  \\\n",
       "Deaths - cumulative total                                 1.000000   \n",
       "Cases - cumulative total                                  0.483775   \n",
       "Cases - newly reported in last 7 days                    -0.047586   \n",
       "Cases - newly reported in last 24 hours                   0.049432   \n",
       "\n",
       "                                         Cases - cumulative total  \\\n",
       "Deaths - cumulative total                                0.483775   \n",
       "Cases - cumulative total                                 1.000000   \n",
       "Cases - newly reported in last 7 days                    0.359795   \n",
       "Cases - newly reported in last 24 hours                 -0.028601   \n",
       "\n",
       "                                         Cases - newly reported in last 7 days  \\\n",
       "Deaths - cumulative total                                            -0.047586   \n",
       "Cases - cumulative total                                              0.359795   \n",
       "Cases - newly reported in last 7 days                                 1.000000   \n",
       "Cases - newly reported in last 24 hours                              -0.024095   \n",
       "\n",
       "                                         Cases - newly reported in last 24 hours  \n",
       "Deaths - cumulative total                                               0.049432  \n",
       "Cases - cumulative total                                               -0.028601  \n",
       "Cases - newly reported in last 7 days                                  -0.024095  \n",
       "Cases - newly reported in last 24 hours                                 1.000000  "
      ]
     },
     "execution_count": 45,
     "metadata": {},
     "output_type": "execute_result"
    }
   ],
   "source": [
    "data2.corr()"
   ]
  },
  {
   "cell_type": "code",
   "execution_count": 48,
   "id": "74aa9baf",
   "metadata": {},
   "outputs": [
    {
     "data": {
      "text/plain": [
       "(0.0, 676.8027)"
      ]
     },
     "execution_count": 48,
     "metadata": {},
     "output_type": "execute_result"
    },
    {
     "data": {
      "image/png": "[encoded data removed]",
      "text/plain": [
       "<Figure size 432x288 with 1 Axes>"
      ]
     },
     "metadata": {
      "needs_background": "light"
     },
     "output_type": "display_data"
    }
   ],
   "source": [
    "sns.regplot(x=\"Cases - cumulative total\", y=\"Deaths - cumulative total\", data=data2)\n",
    "plt.ylim(0,)"
   ]
  },
  {
   "cell_type": "markdown",
   "id": "e79aa87c",
   "metadata": {},
   "source": [
    "<h> From the above graph, It shows that there a positve correlation between deaths cumulative and cases cumulative, meaning as the cases increase, deaths also increases </h>"
   ]
  },
  {
   "cell_type": "code",
   "execution_count": 50,
   "id": "3172b1b8",
   "metadata": {},
   "outputs": [
    {
     "data": {
      "text/html": [
       "<div>\n",
       "<style scoped>\n",
       "    .dataframe tbody tr th:only-of-type {\n",
       "        vertical-align: middle;\n",
       "    }\n",
       "\n",
       "    .dataframe tbody tr th {\n",
       "        vertical-align: top;\n",
       "    }\n",
       "\n",
       "    .dataframe thead th {\n",
       "        text-align: right;\n",
       "    }\n",
       "</style>\n",
       "<table border=\"1\" class=\"dataframe\">\n",
       "  <thead>\n",
       "    <tr style=\"text-align: right;\">\n",
       "      <th></th>\n",
       "      <th>Deaths - cumulative total</th>\n",
       "      <th>Cases - cumulative total</th>\n",
       "    </tr>\n",
       "  </thead>\n",
       "  <tbody>\n",
       "    <tr>\n",
       "      <th>Deaths - cumulative total</th>\n",
       "      <td>1.000000</td>\n",
       "      <td>0.483775</td>\n",
       "    </tr>\n",
       "    <tr>\n",
       "      <th>Cases - cumulative total</th>\n",
       "      <td>0.483775</td>\n",
       "      <td>1.000000</td>\n",
       "    </tr>\n",
       "  </tbody>\n",
       "</table>\n",
       "</div>"
      ],
      "text/plain": [
       "                           Deaths - cumulative total  Cases - cumulative total\n",
       "Deaths - cumulative total                   1.000000                  0.483775\n",
       "Cases - cumulative total                    0.483775                  1.000000"
      ]
     },
     "execution_count": 50,
     "metadata": {},
     "output_type": "execute_result"
    }
   ],
   "source": [
    "data2[[\"Deaths - cumulative total\", \"Cases - cumulative total\"]].corr()"
   ]
  },
  {
   "cell_type": "code",
   "execution_count": 55,
   "id": "892ac8fe",
   "metadata": {},
   "outputs": [
    {
     "data": {
      "text/plain": [
       "(0.0, 676.8027)"
      ]
     },
     "execution_count": 55,
     "metadata": {},
     "output_type": "execute_result"
    },
    {
     "data": {
      "image/png": "[encoded data removed]",
      "text/plain": [
       "<Figure size 432x288 with 1 Axes>"
      ]
     },
     "metadata": {
      "needs_background": "light"
     },
     "output_type": "display_data"
    }
   ],
   "source": [
    "sns.regplot(x=\"Cases - newly reported in last 7 days\", y=\"Deaths - cumulative total\", data=data2)\n",
    "plt.ylim(0,)"
   ]
  },
  {
   "cell_type": "markdown",
   "id": "b76b1a85",
   "metadata": {},
   "source": [
    "<h> From the graphs above, it shows the is a low correlation between deaths cumulative total and cases newly reported in last 7 days, showing that there are few cases reported in the last seven days </h>  "
   ]
  },
  {
   "cell_type": "code",
   "execution_count": 57,
   "id": "0e096c11",
   "metadata": {},
   "outputs": [
    {
     "data": {
      "text/html": [
       "<div>\n",
       "<style scoped>\n",
       "    .dataframe tbody tr th:only-of-type {\n",
       "        vertical-align: middle;\n",
       "    }\n",
       "\n",
       "    .dataframe tbody tr th {\n",
       "        vertical-align: top;\n",
       "    }\n",
       "\n",
       "    .dataframe thead th {\n",
       "        text-align: right;\n",
       "    }\n",
       "</style>\n",
       "<table border=\"1\" class=\"dataframe\">\n",
       "  <thead>\n",
       "    <tr style=\"text-align: right;\">\n",
       "      <th></th>\n",
       "      <th>Deaths - cumulative total</th>\n",
       "      <th>Cases - newly reported in last 7 days</th>\n",
       "    </tr>\n",
       "  </thead>\n",
       "  <tbody>\n",
       "    <tr>\n",
       "      <th>Deaths - cumulative total</th>\n",
       "      <td>1.000000</td>\n",
       "      <td>-0.047586</td>\n",
       "    </tr>\n",
       "    <tr>\n",
       "      <th>Cases - newly reported in last 7 days</th>\n",
       "      <td>-0.047586</td>\n",
       "      <td>1.000000</td>\n",
       "    </tr>\n",
       "  </tbody>\n",
       "</table>\n",
       "</div>"
      ],
      "text/plain": [
       "                                       Deaths - cumulative total  \\\n",
       "Deaths - cumulative total                               1.000000   \n",
       "Cases - newly reported in last 7 days                  -0.047586   \n",
       "\n",
       "                                       Cases - newly reported in last 7 days  \n",
       "Deaths - cumulative total                                          -0.047586  \n",
       "Cases - newly reported in last 7 days                               1.000000  "
      ]
     },
     "execution_count": 57,
     "metadata": {},
     "output_type": "execute_result"
    }
   ],
   "source": [
    "data2[[\"Deaths - cumulative total\", \"Cases - newly reported in last 7 days\"]].corr()"
   ]
  },
  {
   "cell_type": "code",
   "execution_count": 56,
   "id": "3a1340e3",
   "metadata": {},
   "outputs": [
    {
     "data": {
      "text/plain": [
       "(0.0, 5074.115648641608)"
      ]
     },
     "execution_count": 56,
     "metadata": {},
     "output_type": "execute_result"
    },
    {
     "data": {
      "image/png": "[encoded data removed]",
      "text/plain": [
       "<Figure size 432x288 with 1 Axes>"
      ]
     },
     "metadata": {
      "needs_background": "light"
     },
     "output_type": "display_data"
    }
   ],
   "source": [
    "sns.regplot(x=\"Cases - newly reported in last 24 hours\", y=\"Deaths - cumulative total\", data=data2)\n",
    "plt.ylim(0,)"
   ]
  },
  {
   "cell_type": "markdown",
   "id": "a07bfb66",
   "metadata": {},
   "source": [
    "<h> From the regression plot above, it shows there is weak correlation between deaths cumulative and cases newly reported in last 24 hours, showing very few newly reported cases in 24 hours does not affect much on the deaths cumulative total. </h>"
   ]
  },
  {
   "cell_type": "code",
   "execution_count": 58,
   "id": "c4bedcf5",
   "metadata": {},
   "outputs": [
    {
     "data": {
      "text/html": [
       "<div>\n",
       "<style scoped>\n",
       "    .dataframe tbody tr th:only-of-type {\n",
       "        vertical-align: middle;\n",
       "    }\n",
       "\n",
       "    .dataframe tbody tr th {\n",
       "        vertical-align: top;\n",
       "    }\n",
       "\n",
       "    .dataframe thead th {\n",
       "        text-align: right;\n",
       "    }\n",
       "</style>\n",
       "<table border=\"1\" class=\"dataframe\">\n",
       "  <thead>\n",
       "    <tr style=\"text-align: right;\">\n",
       "      <th></th>\n",
       "      <th>Deaths - cumulative total</th>\n",
       "      <th>Cases - newly reported in last 24 hours</th>\n",
       "    </tr>\n",
       "  </thead>\n",
       "  <tbody>\n",
       "    <tr>\n",
       "      <th>Deaths - cumulative total</th>\n",
       "      <td>1.000000</td>\n",
       "      <td>0.049432</td>\n",
       "    </tr>\n",
       "    <tr>\n",
       "      <th>Cases - newly reported in last 24 hours</th>\n",
       "      <td>0.049432</td>\n",
       "      <td>1.000000</td>\n",
       "    </tr>\n",
       "  </tbody>\n",
       "</table>\n",
       "</div>"
      ],
      "text/plain": [
       "                                         Deaths - cumulative total  \\\n",
       "Deaths - cumulative total                                 1.000000   \n",
       "Cases - newly reported in last 24 hours                   0.049432   \n",
       "\n",
       "                                         Cases - newly reported in last 24 hours  \n",
       "Deaths - cumulative total                                               0.049432  \n",
       "Cases - newly reported in last 24 hours                                 1.000000  "
      ]
     },
     "execution_count": 58,
     "metadata": {},
     "output_type": "execute_result"
    }
   ],
   "source": [
    "data2[[\"Deaths - cumulative total\", \"Cases - newly reported in last 24 hours\"]].corr()"
   ]
  },
  {
   "cell_type": "code",
   "execution_count": 60,
   "id": "992eda75",
   "metadata": {},
   "outputs": [],
   "source": [
    "data.replace('?',np.nan, inplace=True)\n",
    "data.dropna(inplace=True)"
   ]
  },
  {
   "cell_type": "code",
   "execution_count": 63,
   "id": "aa9a540e",
   "metadata": {},
   "outputs": [
    {
     "name": "stdout",
     "output_type": "stream",
     "text": [
      "number of NaN values for the column Name : 0\n",
      "number of NaN values for the column WHO Region: 0\n",
      "number of NaN values for the column Cases - cumulative total: 0\n",
      "number of NaN values for the column Cases - newly reported in last 7 days: 0\n",
      "number of NaN values for the column Cases - newly reported in last 24 hours: 0\n",
      "number of NaN values for the column Deaths - cumulative total: 0\n",
      "number of NaN values for the column Deaths - newly reported in last 7 days: 0\n"
     ]
    }
   ],
   "source": [
    "print(\"number of NaN values for the column Name :\", data['Name'].isnull().sum())\n",
    "print(\"number of NaN values for the column WHO Region:\", data['WHO Region'].isnull().sum())\n",
    "print(\"number of NaN values for the column Cases - cumulative total:\", data['Cases - cumulative total'].isnull().sum())\n",
    "print(\"number of NaN values for the column Cases - newly reported in last 7 days:\", data['Cases - newly reported in last 7 days'].isnull().sum())\n",
    "print(\"number of NaN values for the column Cases - newly reported in last 24 hours:\", data['Cases - newly reported in last 24 hours'].isnull().sum())\n",
    "print(\"number of NaN values for the column Deaths - cumulative total:\", data['Deaths - cumulative total'].isnull().sum())\n",
    "print(\"number of NaN values for the column Deaths - newly reported in last 7 days:\", data['Deaths - newly reported in last 7 days'].isnull().sum())"
   ]
  },
  {
   "cell_type": "code",
   "execution_count": 77,
   "id": "808cc1a7",
   "metadata": {},
   "outputs": [
    {
     "data": {
      "text/plain": [
       "LinearRegression()"
      ]
     },
     "execution_count": 77,
     "metadata": {},
     "output_type": "execute_result"
    }
   ],
   "source": [
    "dd = data2[['Cases - cumulative total', 'Cases - newly reported in last 7 days', 'Cases - newly reported in last 24 hours']]\n",
    "lm.fit(dd, data2['Deaths - cumulative total'])"
   ]
  },
  {
   "cell_type": "code",
   "execution_count": 78,
   "id": "4224cdfd",
   "metadata": {},
   "outputs": [
    {
     "data": {
      "text/plain": [
       "53.6140380293612"
      ]
     },
     "execution_count": 78,
     "metadata": {},
     "output_type": "execute_result"
    }
   ],
   "source": [
    "lm.intercept_"
   ]
  },
  {
   "cell_type": "code",
   "execution_count": 79,
   "id": "4bd1b043",
   "metadata": {},
   "outputs": [
    {
     "data": {
      "text/plain": [
       "array([ 4.56068175e-03, -4.27661012e-02,  1.72906747e-05])"
      ]
     },
     "execution_count": 79,
     "metadata": {},
     "output_type": "execute_result"
    }
   ],
   "source": [
    "lm.coef_"
   ]
  },
  {
   "cell_type": "code",
   "execution_count": 84,
   "id": "87dba15d",
   "metadata": {},
   "outputs": [
    {
     "name": "stdout",
     "output_type": "stream",
     "text": [
      "The R-square is:  0.2940445544941055\n"
     ]
    }
   ],
   "source": [
    "lm.fit(dd, data2['Deaths - cumulative total'])\n",
    "# Find the R^2\n",
    "print('The R-square is: ', lm.score(dd, data2['Deaths - cumulative total']))"
   ]
  },
  {
   "cell_type": "code",
   "execution_count": 87,
   "id": "79d69966",
   "metadata": {},
   "outputs": [
    {
     "data": {
      "text/plain": [
       "0.23403809868452674"
      ]
     },
     "execution_count": 87,
     "metadata": {},
     "output_type": "execute_result"
    }
   ],
   "source": [
    "#R - squared\n",
    "\n",
    "X = data2[['Cases - cumulative total']] \n",
    "Y = data2['Deaths - cumulative total'] \n",
    "lm = LinearRegression() \n",
    "lm \n",
    "lm.fit(X,Y)\n",
    "lm.score(X, Y)"
   ]
  },
  {
   "cell_type": "code",
   "execution_count": 88,
   "id": "e607957a",
   "metadata": {},
   "outputs": [
    {
     "name": "stdout",
     "output_type": "stream",
     "text": [
      "The output of the first four predicted value is:  [ 79.05786746 146.64002507  66.43999749 108.83189385]\n"
     ]
    }
   ],
   "source": [
    "Yhat=lm.predict(X)\n",
    "print('The output of the first four predicted value is: ', Yhat[0:4])"
   ]
  },
  {
   "cell_type": "code",
   "execution_count": 93,
   "id": "d144c2f4",
   "metadata": {},
   "outputs": [
    {
     "name": "stdout",
     "output_type": "stream",
     "text": [
      "The mean square error of deaths cummulative total and predicted value is:  10774.258770748162\n"
     ]
    }
   ],
   "source": [
    "# Mean Squared error\n",
    "\n",
    "mse = mean_squared_error(data2['Deaths - cumulative total'], Yhat)\n",
    "print('The mean square error of deaths cummulative total and predicted value is: ', mse)"
   ]
  },
  {
   "cell_type": "code",
   "execution_count": 94,
   "id": "4c12806c",
   "metadata": {},
   "outputs": [
    {
     "name": "stdout",
     "output_type": "stream",
     "text": [
      "The R-square is:  0.2940445544941055\n"
     ]
    }
   ],
   "source": [
    "lm.fit(dd, data2['Deaths - cumulative total'])\n",
    "# Find the R^2\n",
    "print('The R-square is: ', lm.score(dd, data2['Deaths - cumulative total']))"
   ]
  },
  {
   "cell_type": "code",
   "execution_count": 96,
   "id": "d2c63d69",
   "metadata": {},
   "outputs": [
    {
     "name": "stdout",
     "output_type": "stream",
     "text": [
      "The mean square error of price and predicted value using multifit is:  9930.189265858278\n"
     ]
    }
   ],
   "source": [
    "Y_predict_multifit = lm.predict(dd)\n",
    "print('The mean square error of price and predicted value using multifit is: ', \\\n",
    "      mean_squared_error(data2['Deaths - cumulative total'], Y_predict_multifit))"
   ]
  },
  {
   "cell_type": "code",
   "execution_count": 112,
   "id": "d3f9d3a9",
   "metadata": {},
   "outputs": [
    {
     "data": {
      "text/plain": [
       "array([[-0.53632033],\n",
       "       [ 0.64155318],\n",
       "       [-0.75623421],\n",
       "       [-0.01739583],\n",
       "       [ 1.75499797],\n",
       "       [ 0.89432438],\n",
       "       [ 1.16854858],\n",
       "       [-0.13988784],\n",
       "       [ 1.11383413],\n",
       "       [ 0.76493021]])"
      ]
     },
     "execution_count": 112,
     "metadata": {},
     "output_type": "execute_result"
    }
   ],
   "source": [
    "from sklearn.preprocessing import StandardScaler\n",
    "X_initial = X\n",
    "scaler = preprocessing.StandardScaler().fit(X_initial)\n",
    "X= scaler.transform(X)\n",
    "X[0:10]"
   ]
  },
  {
   "cell_type": "code",
   "execution_count": 120,
   "id": "85b91c8f",
   "metadata": {},
   "outputs": [
    {
     "data": {
      "text/plain": [
       "array([ 79.41903839, 295.865     ,  37.807     , 311.204     ,\n",
       "       216.112     ])"
      ]
     },
     "execution_count": 120,
     "metadata": {},
     "output_type": "execute_result"
    }
   ],
   "source": [
    "y = data2['Deaths - cumulative total'].values\n",
    "y[0:5]"
   ]
  },
  {
   "cell_type": "markdown",
   "id": "f3dc7179",
   "metadata": {},
   "source": [
    "<b> KNN </b>"
   ]
  },
  {
   "cell_type": "code",
   "execution_count": 121,
   "id": "f976e7d3",
   "metadata": {},
   "outputs": [
    {
     "name": "stdout",
     "output_type": "stream",
     "text": [
      "Train set: (177, 1) (177,)\n",
      "Cross validation set: (60, 1) (60,)\n"
     ]
    }
   ],
   "source": [
    "from sklearn.model_selection import train_test_split\n",
    "X_train, X_cv, y_train, y_cv = train_test_split( X, y, test_size=0.25, random_state=4)\n",
    "print ('Train set:', X_train.shape,  y_train.shape)\n",
    "print ('Cross validation set:', X_cv.shape,  y_cv.shape)"
   ]
  },
  {
   "cell_type": "code",
   "execution_count": 125,
   "id": "e60c9202",
   "metadata": {},
   "outputs": [],
   "source": [
    "from sklearn import metrics\n",
    "from sklearn.neighbors import KNeighborsClassifier\n",
    "from sklearn.metrics import confusion_matrix, classification_report"
   ]
  },
  {
   "cell_type": "code",
   "execution_count": 126,
   "id": "9318d2e5",
   "metadata": {},
   "outputs": [],
   "source": [
    "from sklearn.metrics import jaccard_score\n",
    "from sklearn.metrics import f1_score\n",
    "from sklearn.metrics import log_loss"
   ]
  },
  {
   "cell_type": "code",
   "execution_count": 151,
   "id": "eefffbe3",
   "metadata": {},
   "outputs": [
    {
     "data": {
      "text/plain": [
       "array([0., 0., 0., 0., 0., 0., 0., 0., 0.])"
      ]
     },
     "execution_count": 151,
     "metadata": {},
     "output_type": "execute_result"
    }
   ],
   "source": [
    "Ks = 10\n",
    "mean_acc = np.zeros((Ks-1))\n",
    "std_acc = np.zeros((Ks-1))\n",
    "ConfustionMx = [];\n",
    "for n in range(1,Ks):\n",
    "    \n",
    "    #Train Model   \n",
    "    knn = KNeighborsRegressor(n_neighbors=1)\n",
    "knn.fit(X_train,y_train)\n",
    " \n",
    "mean_acc"
   ]
  },
  {
   "cell_type": "code",
   "execution_count": 152,
   "id": "c1695111",
   "metadata": {},
   "outputs": [
    {
     "data": {
      "image/png": "[encoded data removed]",
      "text/plain": [
       "<Figure size 432x288 with 1 Axes>"
      ]
     },
     "metadata": {
      "needs_background": "light"
     },
     "output_type": "display_data"
    },
    {
     "name": "stdout",
     "output_type": "stream",
     "text": [
      "The best accuracy was 0.0 with k= 1\n"
     ]
    }
   ],
   "source": [
    "plt.plot(range(1,Ks),mean_acc,'g')\n",
    "plt.fill_between(range(1,Ks),mean_acc - 1 * std_acc,mean_acc + 1 * std_acc, alpha=0.10)\n",
    "plt.legend(('Accuracy ', '+/- 3xstd'))\n",
    "plt.ylabel('Accuracy ')\n",
    "plt.xlabel('Number of Neighbours (K)')\n",
    "plt.tight_layout()\n",
    "plt.show()\n",
    "\n",
    "print( \"The best accuracy was\", mean_acc.max(), \"with k=\", mean_acc.argmax()+1)"
   ]
  },
  {
   "cell_type": "code",
   "execution_count": 154,
   "id": "04beeae6",
   "metadata": {},
   "outputs": [
    {
     "data": {
      "text/html": [
       "<div>\n",
       "<style scoped>\n",
       "    .dataframe tbody tr th:only-of-type {\n",
       "        vertical-align: middle;\n",
       "    }\n",
       "\n",
       "    .dataframe tbody tr th {\n",
       "        vertical-align: top;\n",
       "    }\n",
       "\n",
       "    .dataframe thead th {\n",
       "        text-align: right;\n",
       "    }\n",
       "</style>\n",
       "<table border=\"1\" class=\"dataframe\">\n",
       "  <thead>\n",
       "    <tr style=\"text-align: right;\">\n",
       "      <th></th>\n",
       "      <th>Jaccard</th>\n",
       "      <th>F1-score</th>\n",
       "      <th>LogLoss</th>\n",
       "    </tr>\n",
       "  </thead>\n",
       "  <tbody>\n",
       "    <tr>\n",
       "      <th>KNN</th>\n",
       "      <td>0</td>\n",
       "      <td>0</td>\n",
       "      <td>NA</td>\n",
       "    </tr>\n",
       "    <tr>\n",
       "      <th>Decision Tree</th>\n",
       "      <td>0</td>\n",
       "      <td>0</td>\n",
       "      <td>NA</td>\n",
       "    </tr>\n",
       "    <tr>\n",
       "      <th>SVM</th>\n",
       "      <td>0</td>\n",
       "      <td>0</td>\n",
       "      <td>NA</td>\n",
       "    </tr>\n",
       "    <tr>\n",
       "      <th>LogisticRegression</th>\n",
       "      <td>0</td>\n",
       "      <td>0</td>\n",
       "      <td>0</td>\n",
       "    </tr>\n",
       "  </tbody>\n",
       "</table>\n",
       "</div>"
      ],
      "text/plain": [
       "                    Jaccard  F1-score LogLoss\n",
       "KNN                       0         0      NA\n",
       "Decision Tree             0         0      NA\n",
       "SVM                       0         0      NA\n",
       "LogisticRegression        0         0       0"
      ]
     },
     "execution_count": 154,
     "metadata": {},
     "output_type": "execute_result"
    }
   ],
   "source": [
    "datar = {'Jaccard': [0, 0, 0, 0], 'F1-score': [0, 0, 0, 0], 'LogLoss': ['NA', 'NA', 'NA', 0]}\n",
    "data_report = pd.DataFrame (data=datar, index=['KNN', 'Decision Tree', 'SVM', 'LogisticRegression'])\n",
    "data_report"
   ]
  },
  {
   "cell_type": "code",
   "execution_count": 158,
   "id": "dd518efd",
   "metadata": {},
   "outputs": [
    {
     "data": {
      "text/plain": [
       "array([[-0.53632033],\n",
       "       [ 0.64155318],\n",
       "       [-0.75623421],\n",
       "       [-0.01739583],\n",
       "       [ 1.75499797]])"
      ]
     },
     "execution_count": 158,
     "metadata": {},
     "output_type": "execute_result"
    }
   ],
   "source": [
    "X= preprocessing.StandardScaler().fit(X).transform(X)\n",
    "X[0:5]"
   ]
  },
  {
   "cell_type": "markdown",
   "id": "00d0abf2",
   "metadata": {},
   "source": [
    "<b> Decision Tree </b>"
   ]
  },
  {
   "cell_type": "code",
   "execution_count": 170,
   "id": "b05c8b67",
   "metadata": {},
   "outputs": [
    {
     "name": "stdout",
     "output_type": "stream",
     "text": [
      "Defaulting to user installation because normal site-packages is not writeableNote: you may need to restart the kernel to use updated packages.\n",
      "Requirement already satisfied: six in c:\\users\\admin\\appdata\\roaming\\python\\python310\\site-packages (1.16.0)\n",
      "\n"
     ]
    }
   ],
   "source": [
    "pip install six"
   ]
  },
  {
   "cell_type": "code",
   "execution_count": 171,
   "id": "d77c58d2",
   "metadata": {},
   "outputs": [],
   "source": [
    "import six\n",
    "import sys\n",
    "sys.modules['sklearn.externals.six'] = six\n",
    "from six import StringIO"
   ]
  },
  {
   "cell_type": "code",
   "execution_count": 174,
   "id": "f96b0004",
   "metadata": {},
   "outputs": [
    {
     "name": "stdout",
     "output_type": "stream",
     "text": [
      "Defaulting to user installation because normal site-packages is not writeable\n",
      "Collecting pydotplus\n",
      "  Downloading pydotplus-2.0.2.tar.gz (278 kB)\n",
      "     ------------------------------------ 278.7/278.7 KB 122.7 kB/s eta 0:00:00\n",
      "  Preparing metadata (setup.py): started\n",
      "  Preparing metadata (setup.py): finished with status 'done'\n",
      "Requirement already satisfied: pyparsing>=2.0.1 in c:\\users\\admin\\appdata\\roaming\\python\\python310\\site-packages (from pydotplus) (3.0.7)\n",
      "Building wheels for collected packages: pydotplus\n",
      "  Building wheel for pydotplus (setup.py): started\n",
      "  Building wheel for pydotplus (setup.py): finished with status 'done'\n",
      "  Created wheel for pydotplus: filename=pydotplus-2.0.2-py3-none-any.whl size=24575 sha256=f154a344117e6922736f6a4293048efc070fd7626cfafd2cbf6762f8dace74ea\n",
      "  Stored in directory: c:\\users\\admin\\appdata\\local\\pip\\cache\\wheels\\69\\b2\\67\\08f0eef649af92df772c09f451558298e07fab1bc7cdf33db0\n",
      "Successfully built pydotplus\n",
      "Installing collected packages: pydotplus\n",
      "Successfully installed pydotplus-2.0.2\n",
      "Note: you may need to restart the kernel to use updated packages.\n"
     ]
    }
   ],
   "source": [
    "pip install pydotplus"
   ]
  },
  {
   "cell_type": "code",
   "execution_count": 212,
   "id": "724203fd",
   "metadata": {},
   "outputs": [],
   "source": [
    "from sklearn.externals.six import StringIO\n",
    "import pydotplus\n",
    "import matplotlib.image as mpimg\n",
    "from sklearn import tree\n",
    "from sklearn.tree import DecisionTreeClassifier"
   ]
  },
  {
   "cell_type": "code",
   "execution_count": 213,
   "id": "dc19a423",
   "metadata": {},
   "outputs": [
    {
     "data": {
      "text/plain": [
       "DecisionTreeClassifier(criterion='entropy', max_depth=5)"
      ]
     },
     "execution_count": 213,
     "metadata": {},
     "output_type": "execute_result"
    }
   ],
   "source": [
    "CovidTree = DecisionTreeClassifier(criterion=\"entropy\", max_depth = 5)\n",
    "CovidTree"
   ]
  },
  {
   "cell_type": "code",
   "execution_count": 214,
   "id": "1e299b9c",
   "metadata": {},
   "outputs": [
    {
     "data": {
      "text/plain": [
       "array([[-0.25641303, -0.53632033],\n",
       "       [ 1.56857226,  0.64155318],\n",
       "       [-0.60726901, -0.75623421],\n",
       "       [ 1.69790454, -0.01739583],\n",
       "       [ 0.89612704,  1.75499797]])"
      ]
     },
     "execution_count": 214,
     "metadata": {},
     "output_type": "execute_result"
    }
   ],
   "source": [
    "X= preprocessing.StandardScaler().fit(X).transform(X)\n",
    "X[0:5]"
   ]
  },
  {
   "cell_type": "code",
   "execution_count": 226,
   "id": "0ff989c6",
   "metadata": {},
   "outputs": [
    {
     "ename": "TypeError",
     "evalue": "'_io.StringIO' object is not subscriptable",
     "output_type": "error",
     "traceback": [
      "\u001b[1;31m---------------------------------------------------------------------------\u001b[0m",
      "\u001b[1;31mTypeError\u001b[0m                                 Traceback (most recent call last)",
      "Input \u001b[1;32mIn [226]\u001b[0m, in \u001b[0;36m<module>\u001b[1;34m\u001b[0m\n\u001b[0;32m      2\u001b[0m filename \u001b[38;5;241m=\u001b[39m \u001b[38;5;124m\"\u001b[39m\u001b[38;5;124mTCtree.png\u001b[39m\u001b[38;5;124m\"\u001b[39m\n\u001b[0;32m      3\u001b[0m featureNames \u001b[38;5;241m=\u001b[39m Feature\u001b[38;5;241m.\u001b[39mcolumns\n\u001b[1;32m----> 4\u001b[0m targetNames \u001b[38;5;241m=\u001b[39m \u001b[43mdata2\u001b[49m\u001b[43m[\u001b[49m\u001b[38;5;124;43m'\u001b[39;49m\u001b[38;5;124;43mDeaths - cumulative total\u001b[39;49m\u001b[38;5;124;43m'\u001b[39;49m\u001b[43m]\u001b[49m\u001b[38;5;241m.\u001b[39mtolist()\n\u001b[0;32m      5\u001b[0m out\u001b[38;5;241m=\u001b[39mtree\u001b[38;5;241m.\u001b[39mexport_graphviz(CovidTree,feature_names\u001b[38;5;241m=\u001b[39mfeatureNames, out_file\u001b[38;5;241m=\u001b[39mdot_data2, class_names\u001b[38;5;241m=\u001b[39m np\u001b[38;5;241m.\u001b[39munique(y), filled\u001b[38;5;241m=\u001b[39m\u001b[38;5;28;01mTrue\u001b[39;00m,  special_characters\u001b[38;5;241m=\u001b[39m\u001b[38;5;28;01mTrue\u001b[39;00m,rotate\u001b[38;5;241m=\u001b[39m\u001b[38;5;28;01mFalse\u001b[39;00m)  \n\u001b[0;32m      6\u001b[0m graph \u001b[38;5;241m=\u001b[39m pydotplus\u001b[38;5;241m.\u001b[39mgraph_from_dot_data(dot_data2\u001b[38;5;241m.\u001b[39mgetvalue())  \n",
      "\u001b[1;31mTypeError\u001b[0m: '_io.StringIO' object is not subscriptable"
     ]
    }
   ],
   "source": [
    "dot_data2 = StringIO()\n",
    "filename = \"TCtree.png\"\n",
    "featureNames = Feature.columns\n",
    "targetNames = data2['Deaths - cumulative total'].tolist()\n",
    "out=tree.export_graphviz(CovidTree,feature_names=featureNames, out_file=dot_data2, class_names= np.unique(y), filled=True,  special_characters=True,rotate=False)  \n",
    "graph = pydotplus.graph_from_dot_data(dot_data2.getvalue())  \n",
    "graph.write_png(filename)\n",
    "img = mpimg.imread(filename)\n",
    "plt.figure(figsize=(100, 200))\n",
    "plt.imshow(img,interpolation='nearest')"
   ]
  },
  {
   "cell_type": "code",
   "execution_count": null,
   "id": "82cda2b7",
   "metadata": {},
   "outputs": [],
   "source": []
  },
  {
   "cell_type": "code",
   "execution_count": null,
   "id": "25851af7",
   "metadata": {},
   "outputs": [],
   "source": []
  }
 ],
 "metadata": {
  "kernelspec": {
   "display_name": "Python 3 (ipykernel)",
   "language": "python",
   "name": "python3"
  },
  "language_info": {
   "codemirror_mode": {
    "name": "ipython",
    "version": 3
   },
   "file_extension": ".py",
   "mimetype": "text/x-python",
   "name": "python",
   "nbconvert_exporter": "python",
   "pygments_lexer": "ipython3",
   "version": "3.10.4"
  }
 },
 "nbformat": 4,
 "nbformat_minor": 5
}
